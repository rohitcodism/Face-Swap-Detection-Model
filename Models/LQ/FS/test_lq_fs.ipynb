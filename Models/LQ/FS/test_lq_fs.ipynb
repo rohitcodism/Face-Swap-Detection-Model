{
 "cells": [
  {
   "cell_type": "code",
   "execution_count": 2,
   "metadata": {},
   "outputs": [
    {
     "name": "stdout",
     "output_type": "stream",
     "text": [
      "WARNING:tensorflow:From c:\\Users\\USER\\anaconda3\\envs\\Face-Swap-Detection-Model\\Lib\\site-packages\\keras\\src\\losses.py:2976: The name tf.losses.sparse_softmax_cross_entropy is deprecated. Please use tf.compat.v1.losses.sparse_softmax_cross_entropy instead.\n",
      "\n",
      "WARNING:tensorflow:From c:\\Users\\USER\\anaconda3\\envs\\Face-Swap-Detection-Model\\Lib\\site-packages\\keras\\src\\backend.py:873: The name tf.get_default_graph is deprecated. Please use tf.compat.v1.get_default_graph instead.\n",
      "\n"
     ]
    }
   ],
   "source": [
    "from datamaker_f import VideoDataGenerator, VideoDataGenerator2\n",
    "from pipeline_f import build_full_model\n",
    "import pickle\n",
    "import tensorflow as tf\n",
    "import matplotlib.pyplot as plt\n",
    "from sklearn.model_selection import train_test_split\n",
    "from io import BytesIO\n",
    "from PIL import Image\n",
    "import pandas as pd\n",
    "import numpy as np\n",
    "from tensorflow.keras.optimizers import Adam\n",
    "from tensorflow.keras.callbacks import ReduceLROnPlateau\n",
    "from tensorflow.keras.callbacks import EarlyStopping"
   ]
  },
  {
   "cell_type": "code",
   "execution_count": 3,
   "metadata": {},
   "outputs": [],
   "source": [
    "# Load the dataset from the pickle file\n",
    "with open(\"D:/Projects/Face-Swap-Detection-Model/video_data_fs_lq_16K.pkl\", \"rb\") as f:\n",
    "    pickled_data = pickle.load(f)\n"
   ]
  },
  {
   "cell_type": "code",
   "execution_count": 4,
   "metadata": {},
   "outputs": [
    {
     "name": "stdout",
     "output_type": "stream",
     "text": [
      "Sample video '000' structure:\n",
      "Frames count: 21\n",
      "Frames labels count: 21\n",
      "Micro-expression count: 63\n",
      "Micro-expression labels count: 63\n"
     ]
    }
   ],
   "source": [
    "# Print the structure of one sample entry\n",
    "sample_video = list(pickled_data.keys())[0]  # Take the first video folder as an example\n",
    "print(f\"Sample video '{sample_video}' structure:\")\n",
    "print(\"Frames count:\", len(pickled_data[sample_video]['frames']))\n",
    "print(\"Frames labels count:\", len(pickled_data[sample_video]['frame_label']))\n",
    "print(\"Micro-expression count:\", len(pickled_data[sample_video]['Micro_Expression']))\n",
    "print(\"Micro-expression labels count:\", len(pickled_data[sample_video]['Micro_Expression_label']))"
   ]
  },
  {
   "cell_type": "code",
   "execution_count": 5,
   "metadata": {},
   "outputs": [],
   "source": [
    "video_names, labels = zip(*[\n",
    "    (video_name, video_info['frame_label'][0])\n",
    "    for video_name, video_info in pickled_data.items()\n",
    "    if 'frame_label' in video_info and len(video_info['frame_label']) > 0\n",
    "])\n"
   ]
  },
  {
   "cell_type": "code",
   "execution_count": 6,
   "metadata": {},
   "outputs": [],
   "source": [
    "# Split the data\n",
    "train_names, test_names, train_labels, test_labels = train_test_split(video_names, labels, test_size=0.3, random_state=42)\n",
    "train_names, val_names, train_labels, val_labels = train_test_split(train_names, train_labels, test_size=0.2, random_state=44)"
   ]
  },
  {
   "cell_type": "code",
   "execution_count": 7,
   "metadata": {},
   "outputs": [],
   "source": [
    "# Prepare dictionaries for each split\n",
    "train_data = {name: pickled_data[name] for name in train_names}\n",
    "val_data = {name: pickled_data[name] for name in val_names}\n",
    "test_data = {name: pickled_data[name] for name in test_names}"
   ]
  },
  {
   "cell_type": "code",
   "execution_count": 8,
   "metadata": {},
   "outputs": [
    {
     "name": "stdout",
     "output_type": "stream",
     "text": [
      "8959\n",
      "2240\n",
      "4800\n"
     ]
    }
   ],
   "source": [
    "#length of train and test data\n",
    "print(len(train_data))\n",
    "print(len(val_data))\n",
    "print(len(test_data))"
   ]
  },
  {
   "cell_type": "code",
   "execution_count": 9,
   "metadata": {},
   "outputs": [],
   "source": [
    "# Define the output signature for the generator\n",
    "output_signature = (\n",
    "    (\n",
    "        tf.TensorSpec(shape=(None, 224, 224, 3), dtype=tf.float32),\n",
    "        tf.TensorSpec(shape=(None, 64, 64, 3), dtype=tf.float32)\n",
    "    ),\n",
    "    tf.TensorSpec(shape=(None,1), dtype=tf.float32)\n",
    ")\n",
    "\n",
    "train_generator = tf.data.Dataset.from_generator(\n",
    "    lambda: VideoDataGenerator(train_data),\n",
    "    output_signature=output_signature\n",
    ")\n",
    "\n",
    "\n",
    "val_generator = tf.data.Dataset.from_generator(\n",
    "    lambda: VideoDataGenerator(val_data),\n",
    "    output_signature=output_signature\n",
    ")\n",
    "\n",
    "test_generator = tf.data.Dataset.from_generator(\n",
    "    lambda: VideoDataGenerator(test_data),\n",
    "    output_signature=output_signature\n",
    ")"
   ]
  },
  {
   "cell_type": "code",
   "execution_count": 10,
   "metadata": {},
   "outputs": [
    {
     "name": "stdout",
     "output_type": "stream",
     "text": [
      "Training Data Distribution: {0.0: 4447, 1.0: 4512}\n",
      "Validation Data Distribution: {0.0: 1141, 1.0: 1099}\n",
      "Testing Data Distribution: {0.0: 2412, 1.0: 2388}\n"
     ]
    }
   ],
   "source": [
    "import numpy as np\n",
    "\n",
    "def count_classes_tf_dataset(dataset):\n",
    "    counts = {}\n",
    "    \n",
    "    for batch_X, batch_y in dataset:\n",
    "        # Convert batch_y to numpy for counting\n",
    "        batch_y = batch_y.numpy()\n",
    "        unique, counts_batch = np.unique(batch_y, return_counts=True)\n",
    "        for u, c in zip(unique, counts_batch):\n",
    "            counts[u] = counts.get(u, 0) + c\n",
    "    \n",
    "    return counts\n",
    "\n",
    "# Example for train, val, and test datasets\n",
    "train_counts = count_classes_tf_dataset(train_generator)\n",
    "val_counts = count_classes_tf_dataset(val_generator)\n",
    "test_counts = count_classes_tf_dataset(test_generator)\n",
    "\n",
    "# Print the results\n",
    "print(\"Training Data Distribution:\", train_counts)\n",
    "print(\"Validation Data Distribution:\", val_counts)\n",
    "print(\"Testing Data Distribution:\", test_counts)\n"
   ]
  },
  {
   "cell_type": "code",
   "execution_count": 11,
   "metadata": {},
   "outputs": [
    {
     "name": "stdout",
     "output_type": "stream",
     "text": [
      "X_frames shape: (16, 224, 224, 3)\n",
      "X_micro_exp shape: (16, 64, 64, 3)\n",
      "y shape: (16, 1)\n",
      "X_frames shape: (16, 224, 224, 3)\n",
      "X_micro_exp shape: (16, 64, 64, 3)\n",
      "y shape: (16, 1)\n"
     ]
    },
    {
     "data": {
      "image/png": "[encoded data removed]",
      "text/plain": [
       "<Figure size 1000x400 with 4 Axes>"
      ]
     },
     "metadata": {},
     "output_type": "display_data"
    },
    {
     "name": "stdout",
     "output_type": "stream",
     "text": [
      "sample_frame_0 type: <class 'numpy.ndarray'>, dtype: uint8\n",
      "sample_micro_exp_0 type: <class 'numpy.ndarray'>, dtype: uint8\n",
      "sample_frame_0 shape: (224, 224, 3)\n",
      "sample_micro_exp_0 shape: (64, 64, 3)\n",
      "sample_frame_1 type: <class 'numpy.ndarray'>, dtype: uint8\n",
      "sample_micro_exp_1 type: <class 'numpy.ndarray'>, dtype: uint8\n",
      "sample_frame_1 shape: (224, 224, 3)\n",
      "sample_micro_exp_1 shape: (64, 64, 3)\n"
     ]
    }
   ],
   "source": [
    "import matplotlib.pyplot as plt\n",
    "\n",
    "# Initialize flags to track if we've found samples of each class\n",
    "found_label_0 = False\n",
    "found_label_1 = False\n",
    "\n",
    "# Initialize placeholders for samples\n",
    "sample_frame_0 = None\n",
    "sample_micro_exp_0 = None\n",
    "sample_frame_1 = None\n",
    "sample_micro_exp_1 = None\n",
    "\n",
    "# Take a batch and unpack it\n",
    "for batch in train_generator.take(2):\n",
    "    (X_frames, X_micro_exp), y = batch\n",
    "\n",
    "    # Print the shapes to verify\n",
    "    print(f\"X_frames shape: {X_frames.shape}\")\n",
    "    print(f\"X_micro_exp shape: {X_micro_exp.shape}\")\n",
    "    print(f\"y shape: {y.shape}\")\n",
    "\n",
    "    # Loop through the batch to find examples of both labels\n",
    "    for sample_index in range(len(y)):\n",
    "        sample_label = int(y[sample_index].numpy()[0])  # Assuming binary classification\n",
    "\n",
    "        # Check if we already have examples for each label\n",
    "        if sample_label == 0 and not found_label_0:\n",
    "            found_label_0 = True\n",
    "            sample_frame_0 = X_frames[sample_index].numpy()\n",
    "            sample_micro_exp_0 = X_micro_exp[sample_index].numpy()\n",
    "\n",
    "        elif sample_label == 1 and not found_label_1:\n",
    "            found_label_1 = True\n",
    "            sample_frame_1 = X_frames[sample_index].numpy()\n",
    "            sample_micro_exp_1 = X_micro_exp[sample_index].numpy()\n",
    "\n",
    "        # Break loop once we have both examples\n",
    "        if found_label_0 and found_label_1:\n",
    "            break\n",
    "\n",
    "# Ensure the data is not None before processing\n",
    "if sample_frame_0 is not None and sample_micro_exp_0 is not None:\n",
    "    sample_frame_0 = sample_frame_0.astype(\"uint8\")\n",
    "    sample_micro_exp_0 = sample_micro_exp_0.astype(\"uint8\")\n",
    "else:\n",
    "    print(\"Warning: Label 0 data not found in the batch.\")\n",
    "\n",
    "if sample_frame_1 is not None and sample_micro_exp_1 is not None:\n",
    "    sample_frame_1 = sample_frame_1.astype(\"uint8\")\n",
    "    sample_micro_exp_1 = sample_micro_exp_1.astype(\"uint8\")\n",
    "else:\n",
    "    print(\"Warning: Label 1 data not found in the batch.\")\n",
    "\n",
    "# Plot\n",
    "plt.figure(figsize=(10, 4))\n",
    "\n",
    "if sample_frame_0 is not None and sample_micro_exp_0 is not None:\n",
    "    # Display facial and micro-expression frames for label 0\n",
    "    plt.subplot(2, 2, 1)\n",
    "    plt.imshow(sample_frame_0)\n",
    "    plt.title(\"Facial Frame | Label: 0\")\n",
    "    plt.axis(\"off\")\n",
    "\n",
    "    plt.subplot(2, 2, 2)\n",
    "    plt.imshow(sample_micro_exp_0)\n",
    "    plt.title(\"Micro-Expression | Label: 0\")\n",
    "    plt.axis(\"off\")\n",
    "\n",
    "if sample_frame_1 is not None and sample_micro_exp_1 is not None:\n",
    "    # Display facial and micro-expression frames for label 1\n",
    "    plt.subplot(2, 2, 3)\n",
    "    plt.imshow(sample_frame_1)\n",
    "    plt.title(\"Facial Frame | Label: 1\")\n",
    "    plt.axis(\"off\")\n",
    "\n",
    "    plt.subplot(2, 2, 4)\n",
    "    plt.imshow(sample_micro_exp_1)\n",
    "    plt.title(\"Micro-Expression | Label: 1\")\n",
    "    plt.axis(\"off\")\n",
    "\n",
    "plt.tight_layout()\n",
    "plt.show()\n",
    "\n",
    "# Print the final details\n",
    "if sample_frame_0 is not None and sample_micro_exp_0 is not None:\n",
    "    print(f\"sample_frame_0 type: {type(sample_frame_0)}, dtype: {sample_frame_0.dtype}\")\n",
    "    print(f\"sample_micro_exp_0 type: {type(sample_micro_exp_0)}, dtype: {sample_micro_exp_0.dtype}\")\n",
    "    print(f\"sample_frame_0 shape: {sample_frame_0.shape}\")\n",
    "    print(f\"sample_micro_exp_0 shape: {sample_micro_exp_0.shape}\")\n",
    "\n",
    "if sample_frame_1 is not None and sample_micro_exp_1 is not None:\n",
    "    print(f\"sample_frame_1 type: {type(sample_frame_1)}, dtype: {sample_frame_1.dtype}\")\n",
    "    print(f\"sample_micro_exp_1 type: {type(sample_micro_exp_1)}, dtype: {sample_micro_exp_1.dtype}\")\n",
    "    print(f\"sample_frame_1 shape: {sample_frame_1.shape}\")\n",
    "    print(f\"sample_micro_exp_1 shape: {sample_micro_exp_1.shape}\")\n"
   ]
  },
  {
   "cell_type": "code",
   "execution_count": 12,
   "metadata": {},
   "outputs": [],
   "source": [
    "early_stopping = EarlyStopping(\n",
    "    monitor='val_loss',\n",
    "    patience=10,\n",
    "    restore_best_weights=True,\n",
    "    verbose=1\n",
    ")\n",
    "\n",
    "lr_scheduler = ReduceLROnPlateau(\n",
    "    monitor='val_loss',\n",
    "    factor=0.5,\n",
    "    patience=5,\n",
    "    verbose=1,\n",
    "    min_lr=5e-6\n",
    ")"
   ]
  },
  {
   "cell_type": "code",
   "execution_count": 13,
   "metadata": {},
   "outputs": [],
   "source": [
    "optimizer = Adam(learning_rate=1e-4)"
   ]
  },
  {
   "cell_type": "code",
   "execution_count": 14,
   "metadata": {},
   "outputs": [
    {
     "name": "stdout",
     "output_type": "stream",
     "text": [
      "WARNING:tensorflow:From c:\\Users\\USER\\anaconda3\\envs\\Face-Swap-Detection-Model\\Lib\\site-packages\\keras\\src\\layers\\normalization\\batch_normalization.py:979: The name tf.nn.fused_batch_norm is deprecated. Please use tf.compat.v1.nn.fused_batch_norm instead.\n",
      "\n"
     ]
    }
   ],
   "source": [
    "model = build_full_model()"
   ]
  },
  {
   "cell_type": "code",
   "execution_count": 15,
   "metadata": {},
   "outputs": [],
   "source": [
    "model.compile(\n",
    "    optimizer=optimizer,\n",
    "    loss=\"binary_crossentropy\",\n",
    "    metrics=[\"accuracy\"]\n",
    ")"
   ]
  },
  {
   "cell_type": "code",
   "execution_count": 16,
   "metadata": {},
   "outputs": [
    {
     "name": "stdout",
     "output_type": "stream",
     "text": [
      "Epoch 1/1000\n",
      "WARNING:tensorflow:From c:\\Users\\USER\\anaconda3\\envs\\Face-Swap-Detection-Model\\Lib\\site-packages\\keras\\src\\utils\\tf_utils.py:492: The name tf.ragged.RaggedTensorValue is deprecated. Please use tf.compat.v1.ragged.RaggedTensorValue instead.\n",
      "\n",
      "WARNING:tensorflow:From c:\\Users\\USER\\anaconda3\\envs\\Face-Swap-Detection-Model\\Lib\\site-packages\\keras\\src\\engine\\base_layer_utils.py:384: The name tf.executing_eagerly_outside_functions is deprecated. Please use tf.compat.v1.executing_eagerly_outside_functions instead.\n",
      "\n",
      "560/560 [==============================] - 1298s 2s/step - loss: 0.8884 - accuracy: 0.5083 - val_loss: 0.7845 - val_accuracy: 0.5089 - lr: 1.0000e-04\n",
      "Epoch 2/1000\n",
      "560/560 [==============================] - 1290s 2s/step - loss: 0.7738 - accuracy: 0.5459 - val_loss: 0.7721 - val_accuracy: 0.5723 - lr: 1.0000e-04\n",
      "Epoch 3/1000\n",
      "560/560 [==============================] - 1287s 2s/step - loss: 0.7247 - accuracy: 0.6270 - val_loss: 0.8468 - val_accuracy: 0.5737 - lr: 1.0000e-04\n",
      "Epoch 4/1000\n",
      "560/560 [==============================] - 1286s 2s/step - loss: 0.5945 - accuracy: 0.7467 - val_loss: 1.1400 - val_accuracy: 0.5317 - lr: 1.0000e-04\n",
      "Epoch 5/1000\n",
      "560/560 [==============================] - 1287s 2s/step - loss: 0.4613 - accuracy: 0.8412 - val_loss: 0.6732 - val_accuracy: 0.7732 - lr: 1.0000e-04\n",
      "Epoch 6/1000\n",
      "560/560 [==============================] - 1285s 2s/step - loss: 0.3454 - accuracy: 0.9010 - val_loss: 0.3827 - val_accuracy: 0.8808 - lr: 1.0000e-04\n",
      "Epoch 7/1000\n",
      "560/560 [==============================] - 1293s 2s/step - loss: 0.2390 - accuracy: 0.9423 - val_loss: 0.7597 - val_accuracy: 0.8250 - lr: 1.0000e-04\n",
      "Epoch 8/1000\n",
      "560/560 [==============================] - 1263s 2s/step - loss: 0.2189 - accuracy: 0.9487 - val_loss: 0.4756 - val_accuracy: 0.8817 - lr: 1.0000e-04\n",
      "Epoch 9/1000\n",
      "560/560 [==============================] - 1236s 2s/step - loss: 0.1825 - accuracy: 0.9639 - val_loss: 0.3966 - val_accuracy: 0.8786 - lr: 1.0000e-04\n",
      "Epoch 10/1000\n",
      "560/560 [==============================] - 1239s 2s/step - loss: 0.1527 - accuracy: 0.9751 - val_loss: 0.7503 - val_accuracy: 0.8656 - lr: 1.0000e-04\n",
      "Epoch 11/1000\n",
      "560/560 [==============================] - ETA: 0s - loss: 0.1563 - accuracy: 0.9728\n",
      "Epoch 11: ReduceLROnPlateau reducing learning rate to 4.999999873689376e-05.\n",
      "560/560 [==============================] - 1238s 2s/step - loss: 0.1563 - accuracy: 0.9728 - val_loss: 0.4015 - val_accuracy: 0.8978 - lr: 1.0000e-04\n",
      "Epoch 12/1000\n",
      "560/560 [==============================] - 1303s 2s/step - loss: 0.0963 - accuracy: 0.9910 - val_loss: 0.3825 - val_accuracy: 0.9295 - lr: 5.0000e-05\n",
      "Epoch 13/1000\n",
      "560/560 [==============================] - 1313s 2s/step - loss: 0.0699 - accuracy: 0.9988 - val_loss: 0.4450 - val_accuracy: 0.9312 - lr: 5.0000e-05\n",
      "Epoch 14/1000\n",
      "560/560 [==============================] - 1310s 2s/step - loss: 0.0867 - accuracy: 0.9939 - val_loss: 0.6475 - val_accuracy: 0.8821 - lr: 5.0000e-05\n",
      "Epoch 15/1000\n",
      "560/560 [==============================] - 1311s 2s/step - loss: 0.0828 - accuracy: 0.9934 - val_loss: 0.9144 - val_accuracy: 0.8723 - lr: 5.0000e-05\n",
      "Epoch 16/1000\n",
      "560/560 [==============================] - 1312s 2s/step - loss: 0.0694 - accuracy: 0.9965 - val_loss: 0.4683 - val_accuracy: 0.9281 - lr: 5.0000e-05\n",
      "Epoch 17/1000\n",
      "560/560 [==============================] - ETA: 0s - loss: 0.0660 - accuracy: 0.9961\n",
      "Epoch 17: ReduceLROnPlateau reducing learning rate to 2.499999936844688e-05.\n",
      "560/560 [==============================] - 1314s 2s/step - loss: 0.0660 - accuracy: 0.9961 - val_loss: 0.4770 - val_accuracy: 0.9277 - lr: 5.0000e-05\n",
      "Epoch 18/1000\n",
      "560/560 [==============================] - 1315s 2s/step - loss: 0.0538 - accuracy: 0.9983 - val_loss: 0.5227 - val_accuracy: 0.9281 - lr: 2.5000e-05\n",
      "Epoch 19/1000\n",
      "560/560 [==============================] - 1317s 2s/step - loss: 0.0523 - accuracy: 0.9982 - val_loss: 0.5046 - val_accuracy: 0.9339 - lr: 2.5000e-05\n",
      "Epoch 20/1000\n",
      "560/560 [==============================] - 1318s 2s/step - loss: 0.0435 - accuracy: 0.9998 - val_loss: 0.5078 - val_accuracy: 0.9353 - lr: 2.5000e-05\n",
      "Epoch 21/1000\n",
      "560/560 [==============================] - 1248s 2s/step - loss: 0.0397 - accuracy: 0.9998 - val_loss: 0.5502 - val_accuracy: 0.9353 - lr: 2.5000e-05\n",
      "Epoch 22/1000\n",
      "560/560 [==============================] - ETA: 0s - loss: 0.0362 - accuracy: 0.9999Restoring model weights from the end of the best epoch: 12.\n",
      "\n",
      "Epoch 22: ReduceLROnPlateau reducing learning rate to 1.249999968422344e-05.\n",
      "560/560 [==============================] - 1244s 2s/step - loss: 0.0362 - accuracy: 0.9999 - val_loss: 0.5903 - val_accuracy: 0.9330 - lr: 2.5000e-05\n",
      "Epoch 22: early stopping\n"
     ]
    }
   ],
   "source": [
    "history_df = model.fit(\n",
    "    train_generator,\n",
    "    validation_data=val_generator,\n",
    "    epochs=1000,\n",
    "    callbacks=[early_stopping, lr_scheduler]\n",
    ")"
   ]
  },
  {
   "cell_type": "code",
   "execution_count": 17,
   "metadata": {},
   "outputs": [
    {
     "name": "stdout",
     "output_type": "stream",
     "text": [
      "300/300 [==============================] - 185s 615ms/step - loss: 0.3734 - accuracy: 0.9273\n",
      "Test loss: 0.3734099268913269, Test accuracy: 0.9272916913032532\n"
     ]
    }
   ],
   "source": [
    "test_loss, test_accuracy = model.evaluate(test_generator)\n",
    "print(f\"Test loss: {test_loss}, Test accuracy: {test_accuracy}\")"
   ]
  },
  {
   "cell_type": "code",
   "execution_count": 18,
   "metadata": {},
   "outputs": [
    {
     "name": "stderr",
     "output_type": "stream",
     "text": [
      "c:\\Users\\USER\\anaconda3\\envs\\Face-Swap-Detection-Model\\Lib\\site-packages\\keras\\src\\engine\\training.py:3103: UserWarning: You are saving your model as an HDF5 file via `model.save()`. This file format is considered legacy. We recommend using instead the native Keras format, e.g. `model.save('my_model.keras')`.\n",
      "  saving_api.save_model(\n"
     ]
    }
   ],
   "source": [
    "model.save(\"lq_model_fs_acc_9272_220225.h5\")"
   ]
  },
  {
   "cell_type": "code",
   "execution_count": 19,
   "metadata": {},
   "outputs": [],
   "source": [
    "# save the history\n",
    "with open('history_fs_lq_22022025.pkl', 'wb') as f:\n",
    "    pickle.dump(history_df.history, f)"
   ]
  },
  {
   "cell_type": "code",
   "execution_count": 20,
   "metadata": {},
   "outputs": [],
   "source": [
    "# Extract true labels from the test generator\n",
    "y_true = np.concatenate([y for _, y in test_generator], axis=0)"
   ]
  },
  {
   "cell_type": "code",
   "execution_count": 21,
   "metadata": {},
   "outputs": [
    {
     "name": "stdout",
     "output_type": "stream",
     "text": [
      "300/300 [==============================] - 202s 627ms/step\n"
     ]
    }
   ],
   "source": [
    "test_prediction = model.predict(test_generator)\n",
    "\n",
    "test_prediction_labels = np.argmax(test_prediction, axis=1)"
   ]
  },
  {
   "cell_type": "code",
   "execution_count": 22,
   "metadata": {},
   "outputs": [
    {
     "name": "stdout",
     "output_type": "stream",
     "text": [
      "ROC-AUC Score: 0.9806\n"
     ]
    }
   ],
   "source": [
    "# Calculate ROC-AUC Score\n",
    "from sklearn.metrics import roc_auc_score\n",
    "\n",
    "\n",
    "roc_auc = roc_auc_score(y_true, test_prediction)\n",
    "print(f\"ROC-AUC Score: {roc_auc:.4f}\")"
   ]
  },
  {
   "cell_type": "code",
   "execution_count": 23,
   "metadata": {},
   "outputs": [],
   "source": [
    "# Assuming test_predictions contains probabilities for the positive class\n",
    "test_pred_labels = (test_prediction > 0.5).astype(int)"
   ]
  },
  {
   "cell_type": "code",
   "execution_count": 24,
   "metadata": {},
   "outputs": [
    {
     "ename": "TypeError",
     "evalue": "bad operand type for unary -: 'Text'",
     "output_type": "error",
     "traceback": [
      "\u001b[1;31m---------------------------------------------------------------------------\u001b[0m",
      "\u001b[1;31mTypeError\u001b[0m                                 Traceback (most recent call last)",
      "Cell \u001b[1;32mIn[24], line 7\u001b[0m\n\u001b[0;32m      5\u001b[0m plt\u001b[38;5;241m.\u001b[39mfigure(figsize\u001b[38;5;241m=\u001b[39m(\u001b[38;5;241m6\u001b[39m, \u001b[38;5;241m4\u001b[39m))\n\u001b[0;32m      6\u001b[0m sns\u001b[38;5;241m.\u001b[39mheatmap(cm, annot\u001b[38;5;241m=\u001b[39m\u001b[38;5;28;01mTrue\u001b[39;00m, fmt\u001b[38;5;241m=\u001b[39m\u001b[38;5;124m\"\u001b[39m\u001b[38;5;124md\u001b[39m\u001b[38;5;124m\"\u001b[39m, cmap\u001b[38;5;241m=\u001b[39m\u001b[38;5;124m\"\u001b[39m\u001b[38;5;124mBlues\u001b[39m\u001b[38;5;124m\"\u001b[39m, xticklabels\u001b[38;5;241m=\u001b[39m[\u001b[38;5;124m'\u001b[39m\u001b[38;5;124mNegative\u001b[39m\u001b[38;5;124m'\u001b[39m, \u001b[38;5;124m'\u001b[39m\u001b[38;5;124mPositive\u001b[39m\u001b[38;5;124m'\u001b[39m], yticklabels\u001b[38;5;241m=\u001b[39m[\u001b[38;5;124m'\u001b[39m\u001b[38;5;124mNegative\u001b[39m\u001b[38;5;124m'\u001b[39m, \u001b[38;5;124m'\u001b[39m\u001b[38;5;124mPositive\u001b[39m\u001b[38;5;124m'\u001b[39m])\n\u001b[1;32m----> 7\u001b[0m \u001b[38;5;241;43m-\u001b[39;49m\u001b[43mplt\u001b[49m\u001b[38;5;241;43m.\u001b[39;49m\u001b[43mxlabel\u001b[49m\u001b[43m(\u001b[49m\u001b[38;5;124;43m\"\u001b[39;49m\u001b[38;5;124;43mPredicted Label\u001b[39;49m\u001b[38;5;124;43m\"\u001b[39;49m\u001b[43m)\u001b[49m\n\u001b[0;32m      8\u001b[0m plt\u001b[38;5;241m.\u001b[39mylabel(\u001b[38;5;124m\"\u001b[39m\u001b[38;5;124mTrue Label\u001b[39m\u001b[38;5;124m\"\u001b[39m)\n\u001b[0;32m      9\u001b[0m plt\u001b[38;5;241m.\u001b[39mtitle(\u001b[38;5;124m\"\u001b[39m\u001b[38;5;124mConfusion Matrix\u001b[39m\u001b[38;5;124m\"\u001b[39m)\n",
      "\u001b[1;31mTypeError\u001b[0m: bad operand type for unary -: 'Text'"
     ]
    },
    {
     "data": {
      "image/png": "[encoded data removed]",
      "text/plain": [
       "<Figure size 600x400 with 2 Axes>"
      ]
     },
     "metadata": {},
     "output_type": "display_data"
    }
   ],
   "source": [
    "from sklearn.metrics import confusion_matrix\n",
    "import seaborn as sns\n",
    "\n",
    "cm = confusion_matrix(y_true, test_pred_labels)\n",
    "plt.figure(figsize=(6, 4))\n",
    "sns.heatmap(cm, annot=True, fmt=\"d\", cmap=\"Blues\", xticklabels=['Negative', 'Positive'], yticklabels=['Negative', 'Positive'])\n",
    "-plt.xlabel(\"Predicted Label\")\n",
    "plt.ylabel(\"True Label\")\n",
    "plt.title(\"Confusion Matrix\")\n",
    "plt.show()\n"
   ]
  },
  {
   "cell_type": "code",
   "execution_count": null,
   "metadata": {},
   "outputs": [],
   "source": []
  }
 ],
 "metadata": {
  "kernelspec": {
   "display_name": "Face-Swap-Detection-Model",
   "language": "python",
   "name": "python3"
  },
  "language_info": {
   "codemirror_mode": {
    "name": "ipython",
    "version": 3
   },
   "file_extension": ".py",
   "mimetype": "text/x-python",
   "name": "python",
   "nbconvert_exporter": "python",
   "pygments_lexer": "ipython3",
   "version": "3.11.9"
  }
 },
 "nbformat": 4,
 "nbformat_minor": 2
}
