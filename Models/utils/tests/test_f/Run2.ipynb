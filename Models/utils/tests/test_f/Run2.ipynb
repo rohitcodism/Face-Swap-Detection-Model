{
 "cells": [
  {
   "cell_type": "code",
   "execution_count": 1,
   "metadata": {},
   "outputs": [],
   "source": [
    "from datamaker_f import VideoDataGenerator\n",
    "from pipeline_f import build_full_model\n",
    "import pickle\n",
    "import tensorflow as tf\n",
    "import matplotlib.pyplot as plt\n",
    "from sklearn.model_selection import train_test_split\n",
    "from io import BytesIO\n",
    "from PIL import Image\n",
    "import pandas as pd\n",
    "import numpy as np\n",
    "from tensorflow.keras.optimizers.legacy import Adam\n",
    "from tensorflow.keras.callbacks import ReduceLROnPlateau\n",
    "from tensorflow.keras.callbacks import EarlyStopping"
   ]
  },
  {
   "cell_type": "code",
   "execution_count": 2,
   "metadata": {},
   "outputs": [],
   "source": [
    "# Function to convert byte arrays back to PIL images\n",
    "def bytes_to_pil(byte_data):\n",
    "    with BytesIO(byte_data) as buffer:\n",
    "        return Image.open(buffer)\n",
    "\n",
    "with open('../data/video_data_main_2.pkl', 'rb') as f:\n",
    "    pickled_data = pickle.load(f)"
   ]
  },
  {
   "cell_type": "code",
   "execution_count": 3,
   "metadata": {},
   "outputs": [],
   "source": [
    "# Convert your video_data dictionary to a list of items for easier splitting\n",
    "data_items = list(pickled_data.items())\n",
    "video_names, labels = zip(*[(video_name, video_info['frame_label'][0]) for video_name, video_info in pickled_data.items()])"
   ]
  },
  {
   "cell_type": "code",
   "execution_count": 4,
   "metadata": {},
   "outputs": [],
   "source": [
    "# Split the data\n",
    "train_names, temp_names, train_labels, temp_labels = train_test_split(video_names, labels, test_size=0.2, random_state=42)\n",
    "val_names, test_names, val_labels, test_labels = train_test_split(temp_names, temp_labels, test_size=0.5)"
   ]
  },
  {
   "cell_type": "code",
   "execution_count": 5,
   "metadata": {},
   "outputs": [],
   "source": [
    "# Prepare dictionaries for each split\n",
    "train_data = {name: pickled_data[name] for name in train_names}\n",
    "val_data = {name: pickled_data[name] for name in val_names}\n",
    "test_data = {name: pickled_data[name] for name in test_names}\n"
   ]
  },
  {
   "cell_type": "code",
   "execution_count": 6,
   "metadata": {},
   "outputs": [],
   "source": [
    "# Define the output signature for the generator\n",
    "output_signature = (\n",
    "    (\n",
    "        tf.TensorSpec(shape=(None, 224, 224, 3), dtype=tf.float32),\n",
    "        tf.TensorSpec(shape=(None, 64, 64, 3), dtype=tf.float32)\n",
    "    ),\n",
    "    tf.TensorSpec(shape=(None,1), dtype=tf.float32)\n",
    ")\n",
    "\n",
    "train_generator = tf.data.Dataset.from_generator(\n",
    "    lambda: VideoDataGenerator(train_data),\n",
    "    output_signature=output_signature\n",
    ")\n",
    "\n",
    "val_generator = tf.data.Dataset.from_generator(\n",
    "    lambda: VideoDataGenerator(val_data),\n",
    "    output_signature=output_signature\n",
    ")\n",
    "\n",
    "test_generator = tf.data.Dataset.from_generator(\n",
    "    lambda: VideoDataGenerator(test_data),\n",
    "    output_signature=output_signature\n",
    ")"
   ]
  },
  {
   "cell_type": "code",
   "execution_count": 7,
   "metadata": {},
   "outputs": [],
   "source": [
    "model_test_1 = build_full_model()"
   ]
  },
  {
   "cell_type": "code",
   "execution_count": 8,
   "metadata": {},
   "outputs": [],
   "source": [
    "optimizer = Adam(learning_rate=1e-4)  # Clip gradients by norm"
   ]
  },
  {
   "cell_type": "code",
   "execution_count": 9,
   "metadata": {},
   "outputs": [],
   "source": [
    "# compile the model\n",
    "model_test_1.compile(\n",
    "    optimizer=optimizer,\n",
    "    loss='binary_crossentropy',\n",
    "    metrics=['accuracy']\n",
    ")\n",
    "\n",
    "early_stopping = EarlyStopping(\n",
    "    monitor='val_loss',\n",
    "    patience=10,\n",
    "    restore_best_weights=True,\n",
    "    verbose=1\n",
    ")\n",
    "\n",
    "lr_scheduler = ReduceLROnPlateau(\n",
    "    monitor='val_loss',\n",
    "    factor=0.5,\n",
    "    patience=5,\n",
    "    verbose=1,\n",
    "    min_lr=5e-6\n",
    ")"
   ]
  },
  {
   "cell_type": "code",
   "execution_count": 10,
   "metadata": {},
   "outputs": [
    {
     "name": "stdout",
     "output_type": "stream",
     "text": [
      "Model: \"full_model\"\n",
      "__________________________________________________________________________________________________\n",
      " Layer (type)                Output Shape                 Param #   Connected to                  \n",
      "==================================================================================================\n",
      " input_1 (InputLayer)        [(None, 224, 224, 3)]        0         []                            \n",
      "                                                                                                  \n",
      " input_2 (InputLayer)        [(None, 64, 64, 3)]          0         []                            \n",
      "                                                                                                  \n",
      " spatial_feature_extractor   (None, 2048)                 2358771   ['input_1[0][0]']             \n",
      " (Functional)                                             2                                       \n",
      "                                                                                                  \n",
      " micro_exp_spatial_feature_  (None, 128)                  2224448   ['input_2[0][0]']             \n",
      " extractor (Functional)                                                                           \n",
      "                                                                                                  \n",
      " lambda (Lambda)             (None, 1, 2048)              0         ['spatial_feature_extractor[0]\n",
      "                                                                    [0]']                         \n",
      "                                                                                                  \n",
      " lambda_2 (Lambda)           (None, 1, 128)               0         ['micro_exp_spatial_feature_ex\n",
      "                                                                    tractor[0][0]']               \n",
      "                                                                                                  \n",
      " lambda_4 (Lambda)           (None, 1, 2048)              0         ['spatial_feature_extractor[0]\n",
      "                                                                    [0]']                         \n",
      "                                                                                                  \n",
      " lambda_1 (Lambda)           (None, 30, 2048)             0         ['lambda[0][0]']              \n",
      "                                                                                                  \n",
      " lambda_6 (Lambda)           (None, 1, 128)               0         ['micro_exp_spatial_feature_ex\n",
      "                                                                    tractor[0][0]']               \n",
      "                                                                                                  \n",
      " lambda_3 (Lambda)           (None, 30, 128)              0         ['lambda_2[0][0]']            \n",
      "                                                                                                  \n",
      " lambda_5 (Lambda)           (None, 30, 2048)             0         ['lambda_4[0][0]']            \n",
      "                                                                                                  \n",
      " temporal_feature_extractor  (None, 30, 128)              2393600   ['lambda_1[0][0]']            \n",
      "  (Functional)                                                                                    \n",
      "                                                                                                  \n",
      " lambda_7 (Lambda)           (None, 30, 128)              0         ['lambda_6[0][0]']            \n",
      "                                                                                                  \n",
      " micro_exp_temporal_feature  (None, 30, 128)              427520    ['lambda_3[0][0]']            \n",
      " _extractor (Functional)                                                                          \n",
      "                                                                                                  \n",
      " concatenate (Concatenate)   (None, 30, 2432)             0         ['lambda_5[0][0]',            \n",
      "                                                                     'temporal_feature_extractor[0\n",
      "                                                                    ][0]',                        \n",
      "                                                                     'lambda_7[0][0]',            \n",
      "                                                                     'micro_exp_temporal_feature_e\n",
      "                                                                    xtractor[0][0]']              \n",
      "                                                                                                  \n",
      " global_average_pooling1d (  (None, 2432)                 0         ['concatenate[0][0]']         \n",
      " GlobalAveragePooling1D)                                                                          \n",
      "                                                                                                  \n",
      " dense_2 (Dense)             (None, 256)                  622848    ['global_average_pooling1d[0][\n",
      "                                                                    0]']                          \n",
      "                                                                                                  \n",
      " dropout_4 (Dropout)         (None, 256)                  0         ['dense_2[0][0]']             \n",
      "                                                                                                  \n",
      " dense_3 (Dense)             (None, 128)                  32896     ['dropout_4[0][0]']           \n",
      "                                                                                                  \n",
      " dropout_5 (Dropout)         (None, 128)                  0         ['dense_3[0][0]']             \n",
      "                                                                                                  \n",
      " dense_4 (Dense)             (None, 64)                   8256      ['dropout_5[0][0]']           \n",
      "                                                                                                  \n",
      " dropout_6 (Dropout)         (None, 64)                   0         ['dense_4[0][0]']             \n",
      "                                                                                                  \n",
      " dense_5 (Dense)             (None, 1)                    65        ['dropout_6[0][0]']           \n",
      "                                                                                                  \n",
      "==================================================================================================\n",
      "Total params: 29297345 (111.76 MB)\n",
      "Trainable params: 29243777 (111.56 MB)\n",
      "Non-trainable params: 53568 (209.25 KB)\n",
      "__________________________________________________________________________________________________\n"
     ]
    }
   ],
   "source": [
    "model_test_1.summary()"
   ]
  },
  {
   "cell_type": "code",
   "execution_count": 11,
   "metadata": {},
   "outputs": [
    {
     "name": "stdout",
     "output_type": "stream",
     "text": [
      "Epoch 1/60\n",
      "65/65 [==============================] - 373s 6s/step - loss: 1.1089 - accuracy: 0.5034 - val_loss: 0.7817 - val_accuracy: 0.5231 - lr: 1.0000e-04\n",
      "Epoch 2/60\n",
      "65/65 [==============================] - 399s 6s/step - loss: 0.8628 - accuracy: 0.5202 - val_loss: 0.7809 - val_accuracy: 0.5385 - lr: 1.0000e-04\n",
      "Epoch 3/60\n",
      "65/65 [==============================] - 396s 6s/step - loss: 0.7986 - accuracy: 0.5717 - val_loss: 0.6666 - val_accuracy: 0.7615 - lr: 1.0000e-04\n",
      "Epoch 4/60\n",
      "65/65 [==============================] - 410s 6s/step - loss: 0.7088 - accuracy: 0.6396 - val_loss: 0.6220 - val_accuracy: 0.6923 - lr: 1.0000e-04\n",
      "Epoch 5/60\n",
      "65/65 [==============================] - 419s 6s/step - loss: 0.6210 - accuracy: 0.7036 - val_loss: 0.5516 - val_accuracy: 0.8192 - lr: 1.0000e-04\n",
      "Epoch 6/60\n",
      "65/65 [==============================] - 426s 7s/step - loss: 0.5295 - accuracy: 0.7796 - val_loss: 0.5627 - val_accuracy: 0.7692 - lr: 1.0000e-04\n",
      "Epoch 7/60\n",
      "65/65 [==============================] - 416s 6s/step - loss: 0.4414 - accuracy: 0.8316 - val_loss: 0.4889 - val_accuracy: 0.8423 - lr: 1.0000e-04\n",
      "Epoch 8/60\n",
      "65/65 [==============================] - 418s 6s/step - loss: 0.3773 - accuracy: 0.8720 - val_loss: 0.5398 - val_accuracy: 0.8269 - lr: 1.0000e-04\n",
      "Epoch 9/60\n",
      "65/65 [==============================] - 410s 6s/step - loss: 0.2788 - accuracy: 0.9196 - val_loss: 0.6860 - val_accuracy: 0.8231 - lr: 1.0000e-04\n",
      "Epoch 10/60\n",
      "65/65 [==============================] - 417s 6s/step - loss: 0.2400 - accuracy: 0.9379 - val_loss: 0.5288 - val_accuracy: 0.8615 - lr: 1.0000e-04\n",
      "Epoch 11/60\n",
      "65/65 [==============================] - 415s 6s/step - loss: 0.2323 - accuracy: 0.9490 - val_loss: 1.1058 - val_accuracy: 0.7615 - lr: 1.0000e-04\n",
      "Epoch 12/60\n",
      "65/65 [==============================] - ETA: 0s - loss: 0.2359 - accuracy: 0.9413\n",
      "Epoch 12: ReduceLROnPlateau reducing learning rate to 4.999999873689376e-05.\n",
      "65/65 [==============================] - 410s 6s/step - loss: 0.2359 - accuracy: 0.9413 - val_loss: 0.5413 - val_accuracy: 0.8462 - lr: 1.0000e-04\n",
      "Epoch 13/60\n",
      "65/65 [==============================] - 411s 6s/step - loss: 0.1801 - accuracy: 0.9644 - val_loss: 0.5376 - val_accuracy: 0.8423 - lr: 5.0000e-05\n",
      "Epoch 14/60\n",
      "65/65 [==============================] - 419s 6s/step - loss: 0.1415 - accuracy: 0.9808 - val_loss: 0.5769 - val_accuracy: 0.8692 - lr: 5.0000e-05\n",
      "Epoch 15/60\n",
      "65/65 [==============================] - 421s 6s/step - loss: 0.1288 - accuracy: 0.9860 - val_loss: 0.6954 - val_accuracy: 0.8500 - lr: 5.0000e-05\n",
      "Epoch 16/60\n",
      "65/65 [==============================] - 443s 7s/step - loss: 0.1326 - accuracy: 0.9856 - val_loss: 0.6558 - val_accuracy: 0.8615 - lr: 5.0000e-05\n",
      "Epoch 17/60\n",
      "65/65 [==============================] - ETA: 0s - loss: 0.1155 - accuracy: 0.9904\n",
      "Epoch 17: ReduceLROnPlateau reducing learning rate to 2.499999936844688e-05.\n",
      "Restoring model weights from the end of the best epoch: 7.\n",
      "65/65 [==============================] - 436s 7s/step - loss: 0.1155 - accuracy: 0.9904 - val_loss: 0.6970 - val_accuracy: 0.8462 - lr: 5.0000e-05\n",
      "Epoch 17: early stopping\n"
     ]
    }
   ],
   "source": [
    "# Train the model with callbacks\n",
    "history = model_test_1.fit(\n",
    "    train_generator,\n",
    "    epochs=60,\n",
    "    validation_data=val_generator,\n",
    "    callbacks=[lr_scheduler, early_stopping],\n",
    "    batch_size=32\n",
    ")"
   ]
  },
  {
   "cell_type": "code",
   "execution_count": 12,
   "metadata": {},
   "outputs": [
    {
     "name": "stdout",
     "output_type": "stream",
     "text": [
      "9/9 [==============================] - 7s 791ms/step - loss: 0.4745 - accuracy: 0.8269\n",
      "Test Loss: 0.4744870662689209, Test Accuracy: 0.8269230723381042\n"
     ]
    }
   ],
   "source": [
    "# Evaluate the model\n",
    "test_loss, test_accuracy = model_test_1.evaluate(test_generator)\n",
    "print(f'Test Loss: {test_loss}, Test Accuracy: {test_accuracy}')"
   ]
  },
  {
   "cell_type": "code",
   "execution_count": 13,
   "metadata": {},
   "outputs": [
    {
     "name": "stdout",
     "output_type": "stream",
     "text": [
      "9/9 [==============================] - 9s 798ms/step\n"
     ]
    }
   ],
   "source": [
    "test_prediction = model_test_1.predict(test_generator)"
   ]
  },
  {
   "cell_type": "code",
   "execution_count": 14,
   "metadata": {},
   "outputs": [],
   "source": [
    "# Extract true labels from the test generator\n",
    "y_true = np.concatenate([y for _, y in test_generator], axis=0)"
   ]
  },
  {
   "cell_type": "code",
   "execution_count": 15,
   "metadata": {},
   "outputs": [],
   "source": [
    "# Assuming test_predictions contains probabilities for the positive class\n",
    "test_pred_labels = (test_prediction > 0.5).astype(int)"
   ]
  },
  {
   "cell_type": "code",
   "execution_count": 16,
   "metadata": {},
   "outputs": [],
   "source": [
    "from sklearn.metrics import accuracy_score, precision_score, recall_score, f1_score, confusion_matrix, classification_report"
   ]
  },
  {
   "cell_type": "code",
   "execution_count": 17,
   "metadata": {},
   "outputs": [
    {
     "name": "stdout",
     "output_type": "stream",
     "text": [
      "Accuracy: 0.8269\n",
      "Precision: 0.8463\n",
      "Recall: 0.8269\n",
      "F1 Score: 0.8261\n",
      "Confusion Matrix:\n",
      " [[102  37]\n",
      " [  8 113]]\n"
     ]
    }
   ],
   "source": [
    "# Calculate performance metrics\n",
    "accuracy = accuracy_score(y_true, test_pred_labels)\n",
    "precision = precision_score(y_true, test_pred_labels, average='weighted')  # Use 'macro' or 'micro' as needed\n",
    "recall = recall_score(y_true, test_pred_labels, average='weighted')\n",
    "f1 = f1_score(y_true, test_pred_labels, average='weighted')\n",
    "confusion_mat = confusion_matrix(y_true, test_pred_labels)\n",
    "\n",
    "# Print the results\n",
    "print(f\"Accuracy: {accuracy:.4f}\")\n",
    "print(f\"Precision: {precision:.4f}\")\n",
    "print(f\"Recall: {recall:.4f}\")\n",
    "print(f\"F1 Score: {f1:.4f}\")\n",
    "print(\"Confusion Matrix:\\n\", confusion_mat)"
   ]
  },
  {
   "cell_type": "code",
   "execution_count": 18,
   "metadata": {},
   "outputs": [
    {
     "name": "stdout",
     "output_type": "stream",
     "text": [
      "Classification Report:\n",
      "               precision    recall  f1-score   support\n",
      "\n",
      "         0.0       0.93      0.73      0.82       139\n",
      "         1.0       0.75      0.93      0.83       121\n",
      "\n",
      "    accuracy                           0.83       260\n",
      "   macro avg       0.84      0.83      0.83       260\n",
      "weighted avg       0.85      0.83      0.83       260\n",
      "\n"
     ]
    }
   ],
   "source": [
    "report = classification_report(y_true, test_pred_labels)\n",
    "print(\"Classification Report:\\n\", report)"
   ]
  },
  {
   "cell_type": "code",
   "execution_count": 19,
   "metadata": {},
   "outputs": [],
   "source": [
    "from sklearn.metrics import roc_auc_score, roc_curve, auc\n",
    "import matplotlib.pyplot as plt"
   ]
  },
  {
   "cell_type": "code",
   "execution_count": 20,
   "metadata": {},
   "outputs": [
    {
     "name": "stdout",
     "output_type": "stream",
     "text": [
      "ROC-AUC Score: 0.9183\n"
     ]
    }
   ],
   "source": [
    "# Calculate ROC-AUC Score\n",
    "roc_auc = roc_auc_score(y_true, test_prediction)\n",
    "print(f\"ROC-AUC Score: {roc_auc:.4f}\")"
   ]
  },
  {
   "cell_type": "code",
   "execution_count": 21,
   "metadata": {},
   "outputs": [
    {
     "data": {
      "image/png": "[encoded data removed]",
      "text/plain": [
       "<Figure size 1000x600 with 1 Axes>"
      ]
     },
     "metadata": {},
     "output_type": "display_data"
    }
   ],
   "source": [
    "# Calculate ROC curve\n",
    "fpr, tpr, thresholds = roc_curve(y_true, test_prediction)\n",
    "\n",
    "# Plot ROC curve\n",
    "plt.figure(figsize=(10, 6))\n",
    "plt.plot(fpr, tpr, color='blue', label=f'ROC Curve (area = {roc_auc:.2f})')\n",
    "plt.plot([0, 1], [0, 1], color='red', linestyle='--')  # Diagonal line\n",
    "plt.xlim([0.0, 1.0])\n",
    "plt.ylim([0.0, 1.0])\n",
    "plt.xlabel('False Positive Rate')\n",
    "plt.ylabel('True Positive Rate')\n",
    "plt.title('Receiver Operating Characteristic (ROC) Curve')\n",
    "plt.legend(loc='lower right')\n",
    "plt.grid()\n",
    "plt.show()"
   ]
  },
  {
   "cell_type": "code",
   "execution_count": 22,
   "metadata": {},
   "outputs": [
    {
     "data": {
      "image/png": "[encoded data removed]",
      "text/plain": [
       "<Figure size 1000x600 with 1 Axes>"
      ]
     },
     "metadata": {},
     "output_type": "display_data"
    }
   ],
   "source": [
    "from sklearn.metrics import precision_recall_curve\n",
    "\n",
    "# Calculate precision and recall\n",
    "precision, recall, _ = precision_recall_curve(y_true, test_prediction)\n",
    "\n",
    "# Plotting the Precision-Recall curve\n",
    "plt.figure(figsize=(10, 6))\n",
    "plt.plot(recall, precision, color='blue', lw=2)\n",
    "plt.xlim([0.0, 1.0])\n",
    "plt.ylim([0.0, 1.05])\n",
    "plt.xlabel('Recall')\n",
    "plt.ylabel('Precision')\n",
    "plt.title('Precision-Recall Curve')\n",
    "plt.grid()\n",
    "plt.show()"
   ]
  },
  {
   "cell_type": "code",
   "execution_count": null,
   "metadata": {},
   "outputs": [],
   "source": []
  }
 ],
 "metadata": {
  "kernelspec": {
   "display_name": "Python 3",
   "language": "python",
   "name": "python3"
  },
  "language_info": {
   "codemirror_mode": {
    "name": "ipython",
    "version": 3
   },
   "file_extension": ".py",
   "mimetype": "text/x-python",
   "name": "python",
   "nbconvert_exporter": "python",
   "pygments_lexer": "ipython3",
   "version": "3.11.4"
  },
  "orig_nbformat": 4,
  "vscode": {
   "interpreter": {
    "hash": "aee8b7b246df8f9039afb4144a1f6fd8d2ca17a180786b69acc140d282b71a49"
   }
  }
 },
 "nbformat": 4,
 "nbformat_minor": 2
}
