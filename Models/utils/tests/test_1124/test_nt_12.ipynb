{
 "cells": [
  {
   "cell_type": "code",
   "execution_count": 1,
   "metadata": {},
   "outputs": [
    {
     "name": "stdout",
     "output_type": "stream",
     "text": [
      "WARNING:tensorflow:From c:\\Users\\USER\\anaconda3\\envs\\Face-Swap-Detection-Model\\Lib\\site-packages\\keras\\src\\losses.py:2976: The name tf.losses.sparse_softmax_cross_entropy is deprecated. Please use tf.compat.v1.losses.sparse_softmax_cross_entropy instead.\n",
      "\n",
      "WARNING:tensorflow:From c:\\Users\\USER\\anaconda3\\envs\\Face-Swap-Detection-Model\\Lib\\site-packages\\keras\\src\\backend.py:873: The name tf.get_default_graph is deprecated. Please use tf.compat.v1.get_default_graph instead.\n",
      "\n"
     ]
    }
   ],
   "source": [
    "from datamaker_f import VideoDataGenerator, VideoDataGenerator2\n",
    "from pipeline_f import build_full_model\n",
    "import pickle\n",
    "import tensorflow as tf\n",
    "import matplotlib.pyplot as plt\n",
    "from sklearn.model_selection import train_test_split\n",
    "from io import BytesIO\n",
    "from PIL import Image\n",
    "import pandas as pd\n",
    "import numpy as np\n",
    "from tensorflow.keras.optimizers import Adam\n",
    "from tensorflow.keras.callbacks import ReduceLROnPlateau\n",
    "from tensorflow.keras.callbacks import EarlyStopping"
   ]
  },
  {
   "cell_type": "code",
   "execution_count": 2,
   "metadata": {},
   "outputs": [],
   "source": [
    "# Load the dataset from the pickle file\n",
    "with open(\"F:/video_data_nt_16K.pkl\", \"rb\") as f:\n",
    "    pickled_data = pickle.load(f)\n"
   ]
  },
  {
   "cell_type": "code",
   "execution_count": 3,
   "metadata": {},
   "outputs": [
    {
     "name": "stdout",
     "output_type": "stream",
     "text": [
      "Sample video '000' structure:\n",
      "Frames count: 25\n",
      "Frames labels count: 25\n",
      "Micro-expression count: 75\n",
      "Micro-expression labels count: 75\n"
     ]
    }
   ],
   "source": [
    "# Print the structure of one sample entry\n",
    "sample_video = list(pickled_data.keys())[0]  # Take the first video folder as an example\n",
    "print(f\"Sample video '{sample_video}' structure:\")\n",
    "print(\"Frames count:\", len(pickled_data[sample_video]['frames']))\n",
    "print(\"Frames labels count:\", len(pickled_data[sample_video]['frame_label']))\n",
    "print(\"Micro-expression count:\", len(pickled_data[sample_video]['Micro_Expression']))\n",
    "print(\"Micro-expression labels count:\", len(pickled_data[sample_video]['Micro_Expression_label']))"
   ]
  },
  {
   "cell_type": "code",
   "execution_count": 4,
   "metadata": {},
   "outputs": [],
   "source": [
    "video_names, labels = zip(*[\n",
    "    (video_name, video_info['frame_label'][0])\n",
    "    for video_name, video_info in pickled_data.items()\n",
    "    if 'frame_label' in video_info and len(video_info['frame_label']) > 0\n",
    "])\n"
   ]
  },
  {
   "cell_type": "code",
   "execution_count": 5,
   "metadata": {},
   "outputs": [],
   "source": [
    "# Split the data\n",
    "train_names, test_names, train_labels, test_labels = train_test_split(video_names, labels, test_size=0.3, random_state=42)\n",
    "train_names, val_names, train_labels, val_labels = train_test_split(train_names, train_labels, test_size=0.2, random_state=44)"
   ]
  },
  {
   "cell_type": "code",
   "execution_count": 6,
   "metadata": {},
   "outputs": [],
   "source": [
    "# Prepare dictionaries for each split\n",
    "train_data = {name: pickled_data[name] for name in train_names}\n",
    "val_data = {name: pickled_data[name] for name in val_names}\n",
    "test_data = {name: pickled_data[name] for name in test_names}"
   ]
  },
  {
   "cell_type": "code",
   "execution_count": 7,
   "metadata": {},
   "outputs": [
    {
     "name": "stdout",
     "output_type": "stream",
     "text": [
      "8940\n",
      "2236\n",
      "4791\n"
     ]
    }
   ],
   "source": [
    "#length of train and test data\n",
    "print(len(train_data))\n",
    "print(len(val_data))\n",
    "print(len(test_data))"
   ]
  },
  {
   "cell_type": "code",
   "execution_count": 8,
   "metadata": {},
   "outputs": [],
   "source": [
    "# Define the output signature for the generator\n",
    "output_signature = (\n",
    "    (\n",
    "        tf.TensorSpec(shape=(None, 224, 224, 3), dtype=tf.float32),\n",
    "        tf.TensorSpec(shape=(None, 64, 64, 3), dtype=tf.float32)\n",
    "    ),\n",
    "    tf.TensorSpec(shape=(None,1), dtype=tf.float32)\n",
    ")\n",
    "\n",
    "train_generator = tf.data.Dataset.from_generator(\n",
    "    lambda: VideoDataGenerator(train_data),\n",
    "    output_signature=output_signature\n",
    ")\n",
    "\n",
    "\n",
    "val_generator = tf.data.Dataset.from_generator(\n",
    "    lambda: VideoDataGenerator(val_data),\n",
    "    output_signature=output_signature\n",
    ")\n",
    "\n",
    "test_generator = tf.data.Dataset.from_generator(\n",
    "    lambda: VideoDataGenerator(test_data),\n",
    "    output_signature=output_signature\n",
    ")"
   ]
  },
  {
   "cell_type": "code",
   "execution_count": 9,
   "metadata": {},
   "outputs": [
    {
     "name": "stdout",
     "output_type": "stream",
     "text": [
      "Training Data Distribution: {0.0: 4449, 1.0: 4491}\n",
      "Validation Data Distribution: {0.0: 1106, 1.0: 1130}\n",
      "Testing Data Distribution: {0.0: 2412, 1.0: 2379}\n"
     ]
    }
   ],
   "source": [
    "import numpy as np\n",
    "\n",
    "def count_classes_tf_dataset(dataset):\n",
    "    counts = {}\n",
    "    \n",
    "    for batch_X, batch_y in dataset:\n",
    "        # Convert batch_y to numpy for counting\n",
    "        batch_y = batch_y.numpy()\n",
    "        unique, counts_batch = np.unique(batch_y, return_counts=True)\n",
    "        for u, c in zip(unique, counts_batch):\n",
    "            counts[u] = counts.get(u, 0) + c\n",
    "    \n",
    "    return counts\n",
    "\n",
    "# Example for train, val, and test datasets\n",
    "train_counts = count_classes_tf_dataset(train_generator)\n",
    "val_counts = count_classes_tf_dataset(val_generator)\n",
    "test_counts = count_classes_tf_dataset(test_generator)\n",
    "\n",
    "# Print the results\n",
    "print(\"Training Data Distribution:\", train_counts)\n",
    "print(\"Validation Data Distribution:\", val_counts)\n",
    "print(\"Testing Data Distribution:\", test_counts)\n"
   ]
  },
  {
   "cell_type": "code",
   "execution_count": 10,
   "metadata": {},
   "outputs": [
    {
     "name": "stdout",
     "output_type": "stream",
     "text": [
      "X_frames shape: (16, 224, 224, 3)\n",
      "X_micro_exp shape: (16, 64, 64, 3)\n",
      "y shape: (16, 1)\n",
      "X_frames shape: (16, 224, 224, 3)\n",
      "X_micro_exp shape: (16, 64, 64, 3)\n",
      "y shape: (16, 1)\n"
     ]
    },
    {
     "data": {
      "image/png": "[encoded data removed]",
      "text/plain": [
       "<Figure size 1000x400 with 4 Axes>"
      ]
     },
     "metadata": {},
     "output_type": "display_data"
    },
    {
     "name": "stdout",
     "output_type": "stream",
     "text": [
      "sample_frame_0 type: <class 'numpy.ndarray'>, dtype: uint8\n",
      "sample_micro_exp_0 type: <class 'numpy.ndarray'>, dtype: uint8\n",
      "sample_frame_0 shape: (224, 224, 3)\n",
      "sample_micro_exp_0 shape: (64, 64, 3)\n",
      "sample_frame_1 type: <class 'numpy.ndarray'>, dtype: uint8\n",
      "sample_micro_exp_1 type: <class 'numpy.ndarray'>, dtype: uint8\n",
      "sample_frame_1 shape: (224, 224, 3)\n",
      "sample_micro_exp_1 shape: (64, 64, 3)\n"
     ]
    }
   ],
   "source": [
    "import matplotlib.pyplot as plt\n",
    "\n",
    "# Initialize flags to track if we've found samples of each class\n",
    "found_label_0 = False\n",
    "found_label_1 = False\n",
    "\n",
    "# Initialize placeholders for samples\n",
    "sample_frame_0 = None\n",
    "sample_micro_exp_0 = None\n",
    "sample_frame_1 = None\n",
    "sample_micro_exp_1 = None\n",
    "\n",
    "# Take a batch and unpack it\n",
    "for batch in train_generator.take(2):\n",
    "    (X_frames, X_micro_exp), y = batch\n",
    "\n",
    "    # Print the shapes to verify\n",
    "    print(f\"X_frames shape: {X_frames.shape}\")\n",
    "    print(f\"X_micro_exp shape: {X_micro_exp.shape}\")\n",
    "    print(f\"y shape: {y.shape}\")\n",
    "\n",
    "    # Loop through the batch to find examples of both labels\n",
    "    for sample_index in range(len(y)):\n",
    "        sample_label = int(y[sample_index].numpy()[0])  # Assuming binary classification\n",
    "\n",
    "        # Check if we already have examples for each label\n",
    "        if sample_label == 0 and not found_label_0:\n",
    "            found_label_0 = True\n",
    "            sample_frame_0 = X_frames[sample_index].numpy()\n",
    "            sample_micro_exp_0 = X_micro_exp[sample_index].numpy()\n",
    "\n",
    "        elif sample_label == 1 and not found_label_1:\n",
    "            found_label_1 = True\n",
    "            sample_frame_1 = X_frames[sample_index].numpy()\n",
    "            sample_micro_exp_1 = X_micro_exp[sample_index].numpy()\n",
    "\n",
    "        # Break loop once we have both examples\n",
    "        if found_label_0 and found_label_1:\n",
    "            break\n",
    "\n",
    "# Ensure the data is not None before processing\n",
    "if sample_frame_0 is not None and sample_micro_exp_0 is not None:\n",
    "    sample_frame_0 = sample_frame_0.astype(\"uint8\")\n",
    "    sample_micro_exp_0 = sample_micro_exp_0.astype(\"uint8\")\n",
    "else:\n",
    "    print(\"Warning: Label 0 data not found in the batch.\")\n",
    "\n",
    "if sample_frame_1 is not None and sample_micro_exp_1 is not None:\n",
    "    sample_frame_1 = sample_frame_1.astype(\"uint8\")\n",
    "    sample_micro_exp_1 = sample_micro_exp_1.astype(\"uint8\")\n",
    "else:\n",
    "    print(\"Warning: Label 1 data not found in the batch.\")\n",
    "\n",
    "# Plot\n",
    "plt.figure(figsize=(10, 4))\n",
    "\n",
    "if sample_frame_0 is not None and sample_micro_exp_0 is not None:\n",
    "    # Display facial and micro-expression frames for label 0\n",
    "    plt.subplot(2, 2, 1)\n",
    "    plt.imshow(sample_frame_0)\n",
    "    plt.title(\"Facial Frame | Label: 0\")\n",
    "    plt.axis(\"off\")\n",
    "\n",
    "    plt.subplot(2, 2, 2)\n",
    "    plt.imshow(sample_micro_exp_0)\n",
    "    plt.title(\"Micro-Expression | Label: 0\")\n",
    "    plt.axis(\"off\")\n",
    "\n",
    "if sample_frame_1 is not None and sample_micro_exp_1 is not None:\n",
    "    # Display facial and micro-expression frames for label 1\n",
    "    plt.subplot(2, 2, 3)\n",
    "    plt.imshow(sample_frame_1)\n",
    "    plt.title(\"Facial Frame | Label: 1\")\n",
    "    plt.axis(\"off\")\n",
    "\n",
    "    plt.subplot(2, 2, 4)\n",
    "    plt.imshow(sample_micro_exp_1)\n",
    "    plt.title(\"Micro-Expression | Label: 1\")\n",
    "    plt.axis(\"off\")\n",
    "\n",
    "plt.tight_layout()\n",
    "plt.show()\n",
    "\n",
    "# Print the final details\n",
    "if sample_frame_0 is not None and sample_micro_exp_0 is not None:\n",
    "    print(f\"sample_frame_0 type: {type(sample_frame_0)}, dtype: {sample_frame_0.dtype}\")\n",
    "    print(f\"sample_micro_exp_0 type: {type(sample_micro_exp_0)}, dtype: {sample_micro_exp_0.dtype}\")\n",
    "    print(f\"sample_frame_0 shape: {sample_frame_0.shape}\")\n",
    "    print(f\"sample_micro_exp_0 shape: {sample_micro_exp_0.shape}\")\n",
    "\n",
    "if sample_frame_1 is not None and sample_micro_exp_1 is not None:\n",
    "    print(f\"sample_frame_1 type: {type(sample_frame_1)}, dtype: {sample_frame_1.dtype}\")\n",
    "    print(f\"sample_micro_exp_1 type: {type(sample_micro_exp_1)}, dtype: {sample_micro_exp_1.dtype}\")\n",
    "    print(f\"sample_frame_1 shape: {sample_frame_1.shape}\")\n",
    "    print(f\"sample_micro_exp_1 shape: {sample_micro_exp_1.shape}\")\n"
   ]
  },
  {
   "cell_type": "code",
   "execution_count": 11,
   "metadata": {},
   "outputs": [],
   "source": [
    "early_stopping = EarlyStopping(\n",
    "    monitor='val_loss',\n",
    "    patience=10,\n",
    "    restore_best_weights=True,\n",
    "    verbose=1\n",
    ")\n",
    "\n",
    "lr_scheduler = ReduceLROnPlateau(\n",
    "    monitor='val_loss',\n",
    "    factor=0.5,\n",
    "    patience=5,\n",
    "    verbose=1,\n",
    "    min_lr=5e-6\n",
    ")"
   ]
  },
  {
   "cell_type": "code",
   "execution_count": 12,
   "metadata": {},
   "outputs": [],
   "source": [
    "optimizer = Adam(learning_rate=1e-4)"
   ]
  },
  {
   "cell_type": "code",
   "execution_count": 13,
   "metadata": {},
   "outputs": [
    {
     "name": "stdout",
     "output_type": "stream",
     "text": [
      "WARNING:tensorflow:From c:\\Users\\USER\\anaconda3\\envs\\Face-Swap-Detection-Model\\Lib\\site-packages\\keras\\src\\layers\\normalization\\batch_normalization.py:979: The name tf.nn.fused_batch_norm is deprecated. Please use tf.compat.v1.nn.fused_batch_norm instead.\n",
      "\n"
     ]
    }
   ],
   "source": [
    "model = build_full_model()"
   ]
  },
  {
   "cell_type": "code",
   "execution_count": 14,
   "metadata": {},
   "outputs": [],
   "source": [
    "model.compile(\n",
    "    optimizer=optimizer,\n",
    "    loss=\"binary_crossentropy\",\n",
    "    metrics=[\"accuracy\"]\n",
    ")"
   ]
  },
  {
   "cell_type": "code",
   "execution_count": 15,
   "metadata": {},
   "outputs": [
    {
     "name": "stdout",
     "output_type": "stream",
     "text": [
      "Model: \"full_model\"\n",
      "__________________________________________________________________________________________________\n",
      " Layer (type)                Output Shape                 Param #   Connected to                  \n",
      "==================================================================================================\n",
      " input_7 (InputLayer)        [(None, 224, 224, 3)]        0         []                            \n",
      "                                                                                                  \n",
      " input_8 (InputLayer)        [(None, 64, 64, 3)]          0         []                            \n",
      "                                                                                                  \n",
      " spatial_feature_extractor   (None, 2048)                 2358771   ['input_7[0][0]']             \n",
      " (Functional)                                             2                                       \n",
      "                                                                                                  \n",
      " micro_exp_spatial_feature_  (None, 128)                  2224448   ['input_8[0][0]']             \n",
      " extractor (Functional)                                                                           \n",
      "                                                                                                  \n",
      " lambda_2 (Lambda)           (None, 1, 2048)              0         ['spatial_feature_extractor[1]\n",
      "                                                                    [0]']                         \n",
      "                                                                                                  \n",
      " lambda_4 (Lambda)           (None, 1, 128)               0         ['micro_exp_spatial_feature_ex\n",
      "                                                                    tractor[1][0]']               \n",
      "                                                                                                  \n",
      " lambda_6 (Lambda)           (None, 1, 2048)              0         ['spatial_feature_extractor[1]\n",
      "                                                                    [0]']                         \n",
      "                                                                                                  \n",
      " lambda_3 (Lambda)           (None, 30, 2048)             0         ['lambda_2[1][0]']            \n",
      "                                                                                                  \n",
      " lambda_8 (Lambda)           (None, 1, 128)               0         ['micro_exp_spatial_feature_ex\n",
      "                                                                    tractor[1][0]']               \n",
      "                                                                                                  \n",
      " lambda_5 (Lambda)           (None, 30, 128)              0         ['lambda_4[1][0]']            \n",
      "                                                                                                  \n",
      " lambda_7 (Lambda)           (None, 30, 2048)             0         ['lambda_6[1][0]']            \n",
      "                                                                                                  \n",
      " temporal_feature_extractor  (None, 30, 128)              2393600   ['lambda_3[1][0]']            \n",
      "  (Functional)                                                                                    \n",
      "                                                                                                  \n",
      " lambda_9 (Lambda)           (None, 30, 128)              0         ['lambda_8[1][0]']            \n",
      "                                                                                                  \n",
      " micro_exp_temporal_feature  (None, 30, 128)              427520    ['lambda_5[1][0]']            \n",
      " _extractor (Functional)                                                                          \n",
      "                                                                                                  \n",
      " concatenate (Concatenate)   (None, 30, 2432)             0         ['lambda_7[1][0]',            \n",
      "                                                                     'temporal_feature_extractor[1\n",
      "                                                                    ][0]',                        \n",
      "                                                                     'lambda_9[1][0]',            \n",
      "                                                                     'micro_exp_temporal_feature_e\n",
      "                                                                    xtractor[1][0]']              \n",
      "                                                                                                  \n",
      " global_average_pooling1d (  (None, 2432)                 0         ['concatenate[1][0]']         \n",
      " GlobalAveragePooling1D)                                                                          \n",
      "                                                                                                  \n",
      " dense_2 (Dense)             (None, 256)                  622848    ['global_average_pooling1d[1][\n",
      "                                                                    0]']                          \n",
      "                                                                                                  \n",
      " dropout_4 (Dropout)         (None, 256)                  0         ['dense_2[1][0]']             \n",
      "                                                                                                  \n",
      " dense_3 (Dense)             (None, 128)                  32896     ['dropout_4[1][0]']           \n",
      "                                                                                                  \n",
      " dropout_5 (Dropout)         (None, 128)                  0         ['dense_3[1][0]']             \n",
      "                                                                                                  \n",
      " dense_4 (Dense)             (None, 64)                   8256      ['dropout_5[1][0]']           \n",
      "                                                                                                  \n",
      " dropout_6 (Dropout)         (None, 64)                   0         ['dense_4[1][0]']             \n",
      "                                                                                                  \n",
      " dense_5 (Dense)             (None, 1)                    65        ['dropout_6[1][0]']           \n",
      "                                                                                                  \n",
      "==================================================================================================\n",
      "Total params: 29297345 (111.76 MB)\n",
      "Trainable params: 29243777 (111.56 MB)\n",
      "Non-trainable params: 53568 (209.25 KB)\n",
      "__________________________________________________________________________________________________\n"
     ]
    }
   ],
   "source": [
    "model.summary()"
   ]
  },
  {
   "cell_type": "code",
   "execution_count": null,
   "metadata": {},
   "outputs": [
    {
     "name": "stdout",
     "output_type": "stream",
     "text": [
      "Epoch 1/1000\n",
      "WARNING:tensorflow:From c:\\Users\\USER\\anaconda3\\envs\\Face-Swap-Detection-Model\\Lib\\site-packages\\keras\\src\\utils\\tf_utils.py:492: The name tf.ragged.RaggedTensorValue is deprecated. Please use tf.compat.v1.ragged.RaggedTensorValue instead.\n",
      "\n",
      "WARNING:tensorflow:From c:\\Users\\USER\\anaconda3\\envs\\Face-Swap-Detection-Model\\Lib\\site-packages\\keras\\src\\engine\\base_layer_utils.py:384: The name tf.executing_eagerly_outside_functions is deprecated. Please use tf.compat.v1.executing_eagerly_outside_functions instead.\n",
      "\n",
      "    423/Unknown - 978s 2s/step - loss: 0.9175 - accuracy: 0.5121"
     ]
    }
   ],
   "source": [
    "history_df = model.fit(\n",
    "    train_generator,\n",
    "    validation_data=val_generator,\n",
    "    epochs=1000,\n",
    "    callbacks=[early_stopping, lr_scheduler]\n",
    ")"
   ]
  },
  {
   "cell_type": "code",
   "execution_count": 18,
   "metadata": {},
   "outputs": [
    {
     "name": "stdout",
     "output_type": "stream",
     "text": [
      "300/300 [==============================] - 190s 633ms/step - loss: 0.6481 - accuracy: 0.7055\n",
      "Test loss: 0.6481104493141174, Test accuracy: 0.705489456653595\n"
     ]
    }
   ],
   "source": [
    "test_loss, test_accuracy = model.evaluate(test_generator)\n",
    "print(f\"Test loss: {test_loss}, Test accuracy: {test_accuracy}\")"
   ]
  },
  {
   "cell_type": "code",
   "execution_count": null,
   "metadata": {},
   "outputs": [],
   "source": []
  }
 ],
 "metadata": {
  "kernelspec": {
   "display_name": "Face-Swap-Detection-Model",
   "language": "python",
   "name": "python3"
  },
  "language_info": {
   "codemirror_mode": {
    "name": "ipython",
    "version": 3
   },
   "file_extension": ".py",
   "mimetype": "text/x-python",
   "name": "python",
   "nbconvert_exporter": "python",
   "pygments_lexer": "ipython3",
   "version": "3.11.9"
  }
 },
 "nbformat": 4,
 "nbformat_minor": 2
}
