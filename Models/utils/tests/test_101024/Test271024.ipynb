{
 "cells": [
  {
   "cell_type": "code",
   "execution_count": 1,
   "metadata": {
    "ExecuteTime": {
     "end_time": "2024-10-31T03:44:51.708730Z",
     "start_time": "2024-10-31T03:44:44.601536Z"
    }
   },
   "outputs": [
    {
     "name": "stdout",
     "output_type": "stream",
     "text": [
      "WARNING:tensorflow:From c:\\Users\\USER\\anaconda3\\envs\\Face-Swap-Detection-Model\\Lib\\site-packages\\keras\\src\\losses.py:2976: The name tf.losses.sparse_softmax_cross_entropy is deprecated. Please use tf.compat.v1.losses.sparse_softmax_cross_entropy instead.\n",
      "\n"
     ]
    }
   ],
   "source": [
    "from datamaker_f import VideoDataGenerator\n",
    "from pipeline_f import build_full_model\n",
    "import pickle\n",
    "import tensorflow as tf\n",
    "import matplotlib.pyplot as plt\n",
    "from sklearn.model_selection import train_test_split\n",
    "from io import BytesIO\n",
    "from PIL import Image\n",
    "import pandas as pd\n",
    "import numpy as np\n",
    "from tensorflow.keras.optimizers import Adam\n",
    "from tensorflow.keras.callbacks import ReduceLROnPlateau\n",
    "from tensorflow.keras.callbacks import EarlyStopping"
   ]
  },
  {
   "cell_type": "code",
   "execution_count": 2,
   "metadata": {
    "ExecuteTime": {
     "end_time": "2024-10-31T03:44:55.333645Z",
     "start_time": "2024-10-31T03:44:55.319706Z"
    }
   },
   "outputs": [],
   "source": [
    "# Function to convert byte arrays back to PIL images\n",
    "def bytes_to_pil(byte_data):\n",
    "    with BytesIO(byte_data) as buffer:\n",
    "        return Image.open(buffer)"
   ]
  },
  {
   "cell_type": "code",
   "execution_count": 3,
   "metadata": {
    "ExecuteTime": {
     "end_time": "2024-10-31T03:46:20.585011Z",
     "start_time": "2024-10-31T03:44:57.117240Z"
    }
   },
   "outputs": [],
   "source": [
    "# Load the dataset from the pickle file\n",
    "with open(\"D:/Projects/Face-Swap-Detection-Model/video_data_2600_001.pkl\", \"rb\") as f:\n",
    "    pickled_data = pickle.load(f)"
   ]
  },
  {
   "cell_type": "code",
   "execution_count": 4,
   "metadata": {
    "ExecuteTime": {
     "end_time": "2024-10-31T03:46:20.987034Z",
     "start_time": "2024-10-31T03:46:20.703925Z"
    }
   },
   "outputs": [
    {
     "name": "stdout",
     "output_type": "stream",
     "text": [
      "Sample video '000' structure:\n",
      "Frames count: 395\n",
      "Frames labels count: 395\n",
      "Micro-expression count: 1185\n",
      "Micro-expression labels count: 1185\n"
     ]
    }
   ],
   "source": [
    "# Print the structure of one sample entry\n",
    "sample_video = list(pickled_data.keys())[0]  # Take the first video folder as an example\n",
    "print(f\"Sample video '{sample_video}' structure:\")\n",
    "print(\"Frames count:\", len(pickled_data[sample_video]['frames']))\n",
    "print(\"Frames labels count:\", len(pickled_data[sample_video]['frames_label']))\n",
    "print(\"Micro-expression count:\", len(pickled_data[sample_video]['Micro_Expression']))\n",
    "print(\"Micro-expression labels count:\", len(pickled_data[sample_video]['Micro_Expression_label']))"
   ]
  },
  {
   "cell_type": "code",
   "execution_count": 5,
   "metadata": {
    "ExecuteTime": {
     "end_time": "2024-10-31T03:46:25.206102Z",
     "start_time": "2024-10-31T03:46:25.113120Z"
    }
   },
   "outputs": [
    {
     "name": "stdout",
     "output_type": "stream",
     "text": [
      "All data and label pairs are consistent in length.\n"
     ]
    }
   ],
   "source": [
    "# Verify consistency across all video folders\n",
    "for video_folder, data in pickled_data.items():\n",
    "    assert len(data['frames']) == len(data['frames_label']), f\"Mismatch in frames and labels for {video_folder}\"\n",
    "    assert len(data['Micro_Expression']) == len(data['Micro_Expression_label']), f\"Mismatch in micro expressions and labels for {video_folder}\"\n",
    "print(\"All data and label pairs are consistent in length.\")"
   ]
  },
  {
   "cell_type": "code",
   "execution_count": 6,
   "metadata": {
    "ExecuteTime": {
     "end_time": "2024-10-31T03:46:27.180593Z",
     "start_time": "2024-10-31T03:46:26.429441Z"
    }
   },
   "outputs": [],
   "source": [
    "# Decode and show a sample frame from the first video folder\n",
    "sample_frame_bytes = pickled_data[sample_video]['frames'][0]\n",
    "sample_image = Image.open(BytesIO(sample_frame_bytes))\n",
    "sample_image.show()\n",
    "\n",
    "# Decode and show a sample micro expression from the first video folder\n",
    "sample_micro_expression_bytes = pickled_data[sample_video]['Micro_Expression'][0]\n",
    "sample_image = Image.open(BytesIO(sample_micro_expression_bytes))\n",
    "sample_image.show()"
   ]
  },
  {
   "cell_type": "code",
   "execution_count": 7,
   "metadata": {
    "ExecuteTime": {
     "end_time": "2024-10-31T03:46:34.924186Z",
     "start_time": "2024-10-31T03:46:34.586674Z"
    }
   },
   "outputs": [],
   "source": [
    "# Convert your video_data dictionary to a list of items for easier splitting\n",
    "data_items = list(pickled_data.items())\n",
    "video_names, labels = zip(*[(video_name, video_info['frames_label'][0]) for video_name, video_info in pickled_data.items()])"
   ]
  },
  {
   "cell_type": "code",
   "execution_count": 8,
   "metadata": {
    "ExecuteTime": {
     "end_time": "2024-10-31T03:46:35.922828Z",
     "start_time": "2024-10-31T03:46:35.807172Z"
    }
   },
   "outputs": [],
   "source": [
    "# Split the data\n",
    "train_names, test_names, train_labels, test_labels = train_test_split(video_names, labels, test_size=0.3, random_state=42)\n",
    "train_names, val_names, train_labels, val_labels = train_test_split(train_names, train_labels, test_size=0.2, random_state=42)"
   ]
  },
  {
   "cell_type": "code",
   "execution_count": 9,
   "metadata": {
    "ExecuteTime": {
     "end_time": "2024-10-31T03:46:36.748238Z",
     "start_time": "2024-10-31T03:46:36.726014Z"
    }
   },
   "outputs": [],
   "source": [
    "# Prepare dictionaries for each split\n",
    "train_data = {name: pickled_data[name] for name in train_names}\n",
    "val_data = {name: pickled_data[name] for name in val_names}\n",
    "test_data = {name: pickled_data[name] for name in test_names}"
   ]
  },
  {
   "cell_type": "code",
   "execution_count": 10,
   "metadata": {
    "ExecuteTime": {
     "end_time": "2024-10-31T03:46:37.742602Z",
     "start_time": "2024-10-31T03:46:37.726243Z"
    }
   },
   "outputs": [
    {
     "name": "stdout",
     "output_type": "stream",
     "text": [
      "1491\n",
      "373\n",
      "799\n"
     ]
    }
   ],
   "source": [
    "#length of train and test data\n",
    "print(len(train_data))\n",
    "print(len(val_data))\n",
    "print(len(test_data))"
   ]
  },
  {
   "cell_type": "code",
   "execution_count": null,
   "metadata": {
    "ExecuteTime": {
     "end_time": "2024-10-31T03:47:00.151669Z",
     "start_time": "2024-10-31T03:46:38.907466Z"
    }
   },
   "outputs": [],
   "source": [
    "# Define the output signature for the generator\n",
    "output_signature = (\n",
    "    (\n",
    "        tf.TensorSpec(shape=(None, 224, 224, 3), dtype=tf.float32),\n",
    "        tf.TensorSpec(shape=(None, 64, 64, 3), dtype=tf.float32)\n",
    "    ),\n",
    "    tf.TensorSpec(shape=(None,1), dtype=tf.float32)\n",
    ")\n",
    "\n",
    "train_generator = tf.data.Dataset.from_generator(\n",
    "    lambda: VideoDataGenerator(train_data),\n",
    "    output_signature=output_signature\n",
    ")\n",
    "\n",
    "\n",
    "val_generator = tf.data.Dataset.from_generator(\n",
    "    lambda: VideoDataGenerator(val_data),\n",
    "    output_signature=output_signature\n",
    ")\n",
    "\n",
    "test_generator = tf.data.Dataset.from_generator(\n",
    "    lambda: VideoDataGenerator(test_data),\n",
    "    output_signature=output_signature\n",
    ")"
   ]
  },
  {
   "cell_type": "code",
   "execution_count": 12,
   "metadata": {
    "ExecuteTime": {
     "end_time": "2024-10-31T03:47:10.045161Z",
     "start_time": "2024-10-31T03:47:07.890418Z"
    }
   },
   "outputs": [
    {
     "name": "stdout",
     "output_type": "stream",
     "text": [
      "X_frames shape: (32, 224, 224, 3)\n",
      "X_micro_exp shape: (32, 64, 64, 3)\n",
      "y shape: (32, 1)\n"
     ]
    },
    {
     "data": {
      "image/png": "[encoded data removed]",
      "text/plain": [
       "<Figure size 1000x400 with 4 Axes>"
      ]
     },
     "metadata": {},
     "output_type": "display_data"
    }
   ],
   "source": [
    "import matplotlib.pyplot as plt\n",
    "\n",
    "# Initialize flags to track if we've found samples of each class\n",
    "found_label_0 = False\n",
    "found_label_1 = False\n",
    "\n",
    "# Take a batch and unpack it\n",
    "for batch in train_generator.take(1):\n",
    "    (X_frames, X_micro_exp), y = batch\n",
    "\n",
    "    # Print the shapes to verify\n",
    "    print(f\"X_frames shape: {X_frames.shape}\")\n",
    "    print(f\"X_micro_exp shape: {X_micro_exp.shape}\")\n",
    "    print(f\"y shape: {y.shape}\")\n",
    "\n",
    "    # Loop through the batch to find examples of both labels\n",
    "    for sample_index in range(len(y)):\n",
    "        sample_label = int(y[sample_index].numpy()[0])  # Assuming binary classification\n",
    "\n",
    "        # Check if we already have examples for each label\n",
    "        if sample_label == 0 and not found_label_0:\n",
    "            found_label_0 = True\n",
    "            sample_frame_0 = X_frames[sample_index].numpy().astype(\"uint8\")\n",
    "            sample_micro_exp_0 = X_micro_exp[sample_index].numpy().astype(\"uint8\")\n",
    "\n",
    "        elif sample_label == 1 and not found_label_1:\n",
    "            found_label_1 = True\n",
    "            sample_frame_1 = X_frames[sample_index].numpy().astype(\"uint8\")\n",
    "            sample_micro_exp_1 = X_micro_exp[sample_index].numpy().astype(\"uint8\")\n",
    "\n",
    "        # Break loop once we have both examples\n",
    "        if found_label_0 and found_label_1:\n",
    "            break\n",
    "\n",
    "# Display images for both labels\n",
    "plt.figure(figsize=(10, 4))\n",
    "\n",
    "# Display facial and micro-expression frames for label 0\n",
    "plt.subplot(2, 2, 1)\n",
    "plt.imshow(sample_frame_0)\n",
    "plt.title(\"Facial Frame | Label: 0\")\n",
    "plt.axis(\"off\")\n",
    "\n",
    "plt.subplot(2, 2, 2)\n",
    "plt.imshow(sample_micro_exp_0)\n",
    "plt.title(\"Micro-Expression | Label: 0\")\n",
    "plt.axis(\"off\")\n",
    "\n",
    "# Display facial and micro-expression frames for label 1\n",
    "plt.subplot(2, 2, 3)\n",
    "plt.imshow(sample_frame_1)\n",
    "plt.title(\"Facial Frame | Label: 1\")\n",
    "plt.axis(\"off\")\n",
    "\n",
    "plt.subplot(2, 2, 4)\n",
    "plt.imshow(sample_micro_exp_1)\n",
    "plt.title(\"Micro-Expression | Label: 1\")\n",
    "plt.axis(\"off\")\n",
    "\n",
    "plt.tight_layout()\n",
    "plt.show()\n"
   ]
  },
  {
   "cell_type": "markdown",
   "metadata": {},
   "source": [
    "## **Test 1: Used Binary-Cross-Entropy as loss function**"
   ]
  },
  {
   "cell_type": "code",
   "execution_count": 13,
   "metadata": {
    "ExecuteTime": {
     "end_time": "2024-10-31T03:48:31.125714Z",
     "start_time": "2024-10-31T03:48:26.444255Z"
    }
   },
   "outputs": [
    {
     "name": "stdout",
     "output_type": "stream",
     "text": [
      "WARNING:tensorflow:From c:\\Users\\USER\\anaconda3\\envs\\Face-Swap-Detection-Model\\Lib\\site-packages\\keras\\src\\backend.py:1398: The name tf.executing_eagerly_outside_functions is deprecated. Please use tf.compat.v1.executing_eagerly_outside_functions instead.\n",
      "\n",
      "WARNING:tensorflow:From c:\\Users\\USER\\anaconda3\\envs\\Face-Swap-Detection-Model\\Lib\\site-packages\\keras\\src\\layers\\normalization\\batch_normalization.py:979: The name tf.nn.fused_batch_norm is deprecated. Please use tf.compat.v1.nn.fused_batch_norm instead.\n",
      "\n"
     ]
    }
   ],
   "source": [
    "model_test_1 = build_full_model()"
   ]
  },
  {
   "cell_type": "code",
   "execution_count": 14,
   "metadata": {
    "ExecuteTime": {
     "end_time": "2024-10-31T03:48:33.461727Z",
     "start_time": "2024-10-31T03:48:33.440695Z"
    }
   },
   "outputs": [],
   "source": [
    "optimizer = Adam(learning_rate=1e-4)"
   ]
  },
  {
   "cell_type": "code",
   "execution_count": 15,
   "metadata": {
    "ExecuteTime": {
     "end_time": "2024-10-31T03:48:34.660020Z",
     "start_time": "2024-10-31T03:48:34.635946Z"
    }
   },
   "outputs": [],
   "source": [
    "# compile the model\n",
    "model_test_1.compile(\n",
    "    optimizer=optimizer,\n",
    "    loss='binary_crossentropy',\n",
    "    metrics=['accuracy']\n",
    ")\n",
    "\n",
    "early_stopping = EarlyStopping(\n",
    "    monitor='val_loss',\n",
    "    patience=10,\n",
    "    restore_best_weights=True,\n",
    "    verbose=1\n",
    ")\n",
    "\n",
    "lr_scheduler = ReduceLROnPlateau(\n",
    "    monitor='val_loss',\n",
    "    factor=0.5,\n",
    "    patience=5,\n",
    "    verbose=1,\n",
    "    min_lr=5e-6\n",
    ")"
   ]
  },
  {
   "cell_type": "code",
   "execution_count": 16,
   "metadata": {
    "ExecuteTime": {
     "end_time": "2024-10-31T03:48:35.984158Z",
     "start_time": "2024-10-31T03:48:35.912839Z"
    }
   },
   "outputs": [
    {
     "name": "stdout",
     "output_type": "stream",
     "text": [
      "Model: \"full_model\"\n",
      "__________________________________________________________________________________________________\n",
      " Layer (type)                Output Shape                 Param #   Connected to                  \n",
      "==================================================================================================\n",
      " input_1 (InputLayer)        [(None, 224, 224, 3)]        0         []                            \n",
      "                                                                                                  \n",
      " input_2 (InputLayer)        [(None, 64, 64, 3)]          0         []                            \n",
      "                                                                                                  \n",
      " spatial_feature_extractor   (None, 2048)                 2358771   ['input_1[0][0]']             \n",
      " (Functional)                                             2                                       \n",
      "                                                                                                  \n",
      " micro_exp_spatial_feature_  (None, 128)                  2224448   ['input_2[0][0]']             \n",
      " extractor (Functional)                                                                           \n",
      "                                                                                                  \n",
      " lambda (Lambda)             (None, 1, 2048)              0         ['spatial_feature_extractor[0]\n",
      "                                                                    [0]']                         \n",
      "                                                                                                  \n",
      " lambda_2 (Lambda)           (None, 1, 128)               0         ['micro_exp_spatial_feature_ex\n",
      "                                                                    tractor[0][0]']               \n",
      "                                                                                                  \n",
      " lambda_4 (Lambda)           (None, 1, 2048)              0         ['spatial_feature_extractor[0]\n",
      "                                                                    [0]']                         \n",
      "                                                                                                  \n",
      " lambda_1 (Lambda)           (None, 30, 2048)             0         ['lambda[0][0]']              \n",
      "                                                                                                  \n",
      " lambda_6 (Lambda)           (None, 1, 128)               0         ['micro_exp_spatial_feature_ex\n",
      "                                                                    tractor[0][0]']               \n",
      "                                                                                                  \n",
      " lambda_3 (Lambda)           (None, 30, 128)              0         ['lambda_2[0][0]']            \n",
      "                                                                                                  \n",
      " lambda_5 (Lambda)           (None, 30, 2048)             0         ['lambda_4[0][0]']            \n",
      "                                                                                                  \n",
      " temporal_feature_extractor  (None, 30, 128)              2393600   ['lambda_1[0][0]']            \n",
      "  (Functional)                                                                                    \n",
      "                                                                                                  \n",
      " lambda_7 (Lambda)           (None, 30, 128)              0         ['lambda_6[0][0]']            \n",
      "                                                                                                  \n",
      " micro_exp_temporal_feature  (None, 30, 128)              427520    ['lambda_3[0][0]']            \n",
      " _extractor (Functional)                                                                          \n",
      "                                                                                                  \n",
      " concatenate (Concatenate)   (None, 30, 2432)             0         ['lambda_5[0][0]',            \n",
      "                                                                     'temporal_feature_extractor[0\n",
      "                                                                    ][0]',                        \n",
      "                                                                     'lambda_7[0][0]',            \n",
      "                                                                     'micro_exp_temporal_feature_e\n",
      "                                                                    xtractor[0][0]']              \n",
      "                                                                                                  \n",
      " global_average_pooling1d (  (None, 2432)                 0         ['concatenate[0][0]']         \n",
      " GlobalAveragePooling1D)                                                                          \n",
      "                                                                                                  \n",
      " dense_2 (Dense)             (None, 256)                  622848    ['global_average_pooling1d[0][\n",
      "                                                                    0]']                          \n",
      "                                                                                                  \n",
      " dropout_4 (Dropout)         (None, 256)                  0         ['dense_2[0][0]']             \n",
      "                                                                                                  \n",
      " dense_3 (Dense)             (None, 128)                  32896     ['dropout_4[0][0]']           \n",
      "                                                                                                  \n",
      " dropout_5 (Dropout)         (None, 128)                  0         ['dense_3[0][0]']             \n",
      "                                                                                                  \n",
      " dense_4 (Dense)             (None, 64)                   8256      ['dropout_5[0][0]']           \n",
      "                                                                                                  \n",
      " dropout_6 (Dropout)         (None, 64)                   0         ['dense_4[0][0]']             \n",
      "                                                                                                  \n",
      " dense_5 (Dense)             (None, 1)                    65        ['dropout_6[0][0]']           \n",
      "                                                                                                  \n",
      "==================================================================================================\n",
      "Total params: 29297345 (111.76 MB)\n",
      "Trainable params: 29243777 (111.56 MB)\n",
      "Non-trainable params: 53568 (209.25 KB)\n",
      "__________________________________________________________________________________________________\n"
     ]
    }
   ],
   "source": [
    "model_test_1.summary()"
   ]
  },
  {
   "cell_type": "code",
   "execution_count": null,
   "metadata": {
    "ExecuteTime": {
     "end_time": "2024-10-31T03:57:08.471066Z",
     "start_time": "2024-10-31T03:48:41.861435Z"
    }
   },
   "outputs": [
    {
     "name": "stdout",
     "output_type": "stream",
     "text": [
      "Epoch 1/60\n",
      "WARNING:tensorflow:From c:\\Users\\USER\\anaconda3\\envs\\Face-Swap-Detection-Model\\Lib\\site-packages\\keras\\src\\utils\\tf_utils.py:492: The name tf.ragged.RaggedTensorValue is deprecated. Please use tf.compat.v1.ragged.RaggedTensorValue instead.\n",
      "\n",
      "WARNING:tensorflow:From c:\\Users\\USER\\anaconda3\\envs\\Face-Swap-Detection-Model\\Lib\\site-packages\\keras\\src\\engine\\base_layer_utils.py:384: The name tf.executing_eagerly_outside_functions is deprecated. Please use tf.compat.v1.executing_eagerly_outside_functions instead.\n",
      "\n",
      "      6/Unknown - 158s 6s/step - loss: 1.5174 - accuracy: 0.4740"
     ]
    }
   ],
   "source": [
    "# Train the model with callbacks\n",
    "history = model_test_1.fit(\n",
    "    train_generator,\n",
    "    epochs=60,\n",
    "    validation_data=val_generator,\n",
    "    callbacks=[lr_scheduler, early_stopping],\n",
    "    batch_size=32\n",
    ")"
   ]
  },
  {
   "cell_type": "code",
   "execution_count": null,
   "metadata": {},
   "outputs": [],
   "source": [
    "# Evaluate the model\n",
    "test_loss, test_accuracy = model_test_1.evaluate(test_generator)\n",
    "print(f'Test Loss: {test_loss}, Test Accuracy: {test_accuracy}')"
   ]
  },
  {
   "cell_type": "code",
   "execution_count": null,
   "metadata": {},
   "outputs": [],
   "source": [
    "test_prediction = model_test_1.predict(test_generator)"
   ]
  },
  {
   "cell_type": "code",
   "execution_count": null,
   "metadata": {},
   "outputs": [],
   "source": [
    "# Extract true labels from the test generator\n",
    "y_true = np.concatenate([y for _, y in test_generator], axis=0)"
   ]
  },
  {
   "cell_type": "code",
   "execution_count": null,
   "metadata": {},
   "outputs": [],
   "source": [
    "# Assuming test_predictions contains probabilities for the positive class\n",
    "test_pred_labels = (test_prediction > 0.5).astype(int)"
   ]
  },
  {
   "cell_type": "code",
   "execution_count": null,
   "metadata": {},
   "outputs": [],
   "source": [
    "from sklearn.metrics import accuracy_score, precision_score, recall_score, f1_score, confusion_matrix, classification_report"
   ]
  },
  {
   "cell_type": "code",
   "execution_count": null,
   "metadata": {},
   "outputs": [],
   "source": [
    "# Calculate performance metrics\n",
    "accuracy = accuracy_score(y_true, test_pred_labels)\n",
    "precision = precision_score(y_true, test_pred_labels, average='weighted')  # Use 'macro' or 'micro' as needed\n",
    "recall = recall_score(y_true, test_pred_labels, average='weighted')\n",
    "f1 = f1_score(y_true, test_pred_labels, average='weighted')\n",
    "confusion_mat = confusion_matrix(y_true, test_pred_labels)\n",
    "\n",
    "# Print the results\n",
    "print(f\"Accuracy: {accuracy:.4f}\")\n",
    "print(f\"Precision: {precision:.4f}\")\n",
    "print(f\"Recall: {recall:.4f}\")\n",
    "print(f\"F1 Score: {f1:.4f}\")\n",
    "print(\"Confusion Matrix:\\n\", confusion_mat)"
   ]
  },
  {
   "cell_type": "code",
   "execution_count": null,
   "metadata": {},
   "outputs": [],
   "source": [
    "report = classification_report(y_true, test_pred_labels)\n",
    "print(\"Classification Report:\\n\", report)"
   ]
  },
  {
   "cell_type": "code",
   "execution_count": null,
   "metadata": {},
   "outputs": [],
   "source": [
    "from sklearn.metrics import roc_auc_score, roc_curve, auc\n",
    "import matplotlib.pyplot as plt"
   ]
  },
  {
   "cell_type": "code",
   "execution_count": null,
   "metadata": {},
   "outputs": [],
   "source": [
    "# Calculate ROC-AUC Score\n",
    "roc_auc = roc_auc_score(y_true, test_prediction)\n",
    "print(f\"ROC-AUC Score: {roc_auc:.4f}\")"
   ]
  },
  {
   "cell_type": "code",
   "execution_count": null,
   "metadata": {},
   "outputs": [],
   "source": [
    "# Calculate ROC curve\n",
    "fpr, tpr, thresholds = roc_curve(y_true, test_prediction)\n",
    "\n",
    "# Plot ROC curve\n",
    "plt.figure(figsize=(10, 6))\n",
    "plt.plot(fpr, tpr, color='blue', label=f'ROC Curve (area = {roc_auc:.2f})')\n",
    "plt.plot([0, 1], [0, 1], color='red', linestyle='--')  # Diagonal line\n",
    "plt.xlim([0.0, 1.0])\n",
    "plt.ylim([0.0, 1.0])\n",
    "plt.xlabel('False Positive Rate')\n",
    "plt.ylabel('True Positive Rate')\n",
    "plt.title('Receiver Operating Characteristic (ROC) Curve')\n",
    "plt.legend(loc='lower right')\n",
    "plt.grid()\n",
    "plt.show()"
   ]
  },
  {
   "cell_type": "code",
   "execution_count": null,
   "metadata": {},
   "outputs": [],
   "source": [
    "from sklearn.metrics import precision_recall_curve\n",
    "\n",
    "# Calculate precision and recall\n",
    "precision, recall, _ = precision_recall_curve(y_true, test_prediction)\n",
    "\n",
    "# Plotting the Precision-Recall curve\n",
    "plt.figure(figsize=(10, 6))\n",
    "plt.plot(recall, precision, color='blue', lw=2)\n",
    "plt.xlim([0.0, 1.0])\n",
    "plt.ylim([0.0, 1.05])\n",
    "plt.xlabel('Recall')\n",
    "plt.ylabel('Precision')\n",
    "plt.title('Precision-Recall Curve')\n",
    "plt.grid()\n",
    "plt.show()"
   ]
  },
  {
   "cell_type": "code",
   "execution_count": null,
   "metadata": {},
   "outputs": [],
   "source": [
    "import matplotlib.pyplot as plt\n",
    "\n",
    "# Plot training & validation loss\n",
    "plt.figure(figsize=(10, 5))\n",
    "plt.plot(history.history['loss'], label='Training Loss')\n",
    "plt.plot(history.history['val_loss'], label='Validation Loss')\n",
    "plt.title('Model Loss')\n",
    "plt.xlabel('Epoch')\n",
    "plt.ylabel('Loss Value')\n",
    "plt.legend()\n",
    "plt.show()\n"
   ]
  },
  {
   "cell_type": "code",
   "execution_count": null,
   "metadata": {},
   "outputs": [],
   "source": [
    "if 'accuracy' in history.history:\n",
    "    plt.figure(figsize=(10, 5))\n",
    "    plt.plot(history.history['accuracy'], label='Training Accuracy')\n",
    "    plt.plot(history.history['val_accuracy'], label='Validation Accuracy')\n",
    "    plt.title('Model Accuracy')\n",
    "    plt.xlabel('Epoch')\n",
    "    plt.ylabel('Accuracy')\n",
    "    plt.legend()\n",
    "    plt.show()\n"
   ]
  },
  {
   "cell_type": "code",
   "execution_count": null,
   "metadata": {},
   "outputs": [],
   "source": [
    "# Assuming the test set predictions and actual values\n",
    "test_preds = model_test_1.predict(test_generator)\n",
    "test_labels = np.concatenate([y for _, y in test_generator], axis=0)\n",
    "\n",
    "plt.figure(figsize=(8, 8))\n",
    "plt.scatter(test_labels, test_preds, alpha=0.5)\n",
    "plt.plot([test_labels.min(), test_labels.max()], [test_labels.min(), test_labels.max()], 'r--')\n",
    "plt.xlabel('Actual Values')\n",
    "plt.ylabel('Predicted Values')\n",
    "plt.title('Predicted vs Actual Values')\n",
    "plt.show()\n"
   ]
  },
  {
   "cell_type": "code",
   "execution_count": null,
   "metadata": {},
   "outputs": [],
   "source": [
    "residuals = test_labels - test_preds.flatten()\n",
    "plt.figure(figsize=(8, 5))\n",
    "plt.hist(residuals, bins=30, alpha=0.7)\n",
    "plt.xlabel('Residual')\n",
    "plt.ylabel('Frequency')\n",
    "plt.title('Residuals Distribution')\n",
    "plt.show()\n"
   ]
  },
  {
   "cell_type": "code",
   "execution_count": null,
   "metadata": {},
   "outputs": [],
   "source": [
    "# Assuming `history.history` contains learning rate logs\n",
    "if 'lr' in history.history:\n",
    "    plt.plot(history.history['lr'])\n",
    "    plt.xlabel('Epoch')\n",
    "    plt.ylabel('Learning Rate')\n",
    "    plt.title('Learning Rate Schedule')\n",
    "    plt.show()\n"
   ]
  },
  {
   "cell_type": "code",
   "execution_count": null,
   "metadata": {},
   "outputs": [],
   "source": [
    "from sklearn.metrics import confusion_matrix\n",
    "import seaborn as sns\n",
    "\n",
    "cm = confusion_matrix(y_true, test_pred_labels)\n",
    "plt.figure(figsize=(6, 4))\n",
    "sns.heatmap(cm, annot=True, fmt=\"d\", cmap=\"Blues\", xticklabels=['Negative', 'Positive'], yticklabels=['Negative', 'Positive'])\n",
    "plt.xlabel(\"Predicted Label\")\n",
    "plt.ylabel(\"True Label\")\n",
    "plt.title(\"Confusion Matrix\")\n",
    "plt.show()\n"
   ]
  },
  {
   "cell_type": "code",
   "execution_count": null,
   "metadata": {},
   "outputs": [],
   "source": [
    "import seaborn as sns\n",
    "\n",
    "# Assuming binary classification with predictions between 0 and 1\n",
    "sns.histplot(test_pred_labels[y_true == 0], color=\"red\", label=\"Class 0\", kde=True)\n",
    "sns.histplot(test_pred_labels[y_true == 1], color=\"blue\", label=\"Class 1\", kde=True)\n",
    "plt.xlabel(\"Predicted Probability\")\n",
    "plt.ylabel(\"Density\")\n",
    "plt.title(\"Predicted Probability Distribution by True Class\")\n",
    "plt.legend()\n",
    "plt.show()\n"
   ]
  },
  {
   "cell_type": "code",
   "execution_count": null,
   "metadata": {},
   "outputs": [],
   "source": [
    "# Misclassification rate for train and validation data\n",
    "train_misclassification = [1 - acc for acc in history.history['accuracy']]\n",
    "val_misclassification = [1 - val_acc for val_acc in history.history['val_accuracy']]\n",
    "\n",
    "# Plot misclassification rates\n",
    "plt.figure(figsize=(8, 6))\n",
    "plt.plot(train_misclassification, label='Train Misclassification Rate')\n",
    "plt.plot(val_misclassification, label='Validation Misclassification Rate')\n",
    "plt.xlabel('Epochs')\n",
    "plt.ylabel('Misclassification Rate')\n",
    "plt.title('Misclassification Rate Over Epochs')\n",
    "plt.legend()\n",
    "plt.grid(True)\n",
    "plt.show()\n"
   ]
  },
  {
   "cell_type": "code",
   "execution_count": null,
   "metadata": {},
   "outputs": [],
   "source": [
    "from sklearn.metrics import mean_absolute_error, mean_squared_error\n",
    "\n",
    "mae = mean_absolute_error(test_labels, test_preds)\n",
    "mse = mean_squared_error(test_labels, test_preds)\n",
    "\n",
    "print(f'Mean Absolute Error (MAE): {mae}')\n",
    "print(f'Mean Squared Error (MSE): {mse}')\n"
   ]
  },
  {
   "cell_type": "code",
   "execution_count": null,
   "metadata": {},
   "outputs": [],
   "source": [
    "model_test_1.save('../../saved/model_test_1_acc_90.h5')"
   ]
  },
  {
   "cell_type": "code",
   "execution_count": null,
   "metadata": {},
   "outputs": [],
   "source": [
    "model_test_1.save_weights('../../saved/model_test_1_weights_acc_90.h5')"
   ]
  },
  {
   "cell_type": "markdown",
   "metadata": {},
   "source": [
    "## **Test 2: Used MSLE as loss function**"
   ]
  },
  {
   "cell_type": "code",
   "execution_count": null,
   "metadata": {},
   "outputs": [],
   "source": [
    "model_test_2 = build_full_model()"
   ]
  },
  {
   "cell_type": "code",
   "execution_count": null,
   "metadata": {},
   "outputs": [],
   "source": [
    "optimizer_msle = Adam(learning_rate=1e-4)"
   ]
  },
  {
   "cell_type": "code",
   "execution_count": null,
   "metadata": {},
   "outputs": [],
   "source": [
    "model_test_2.compile(\n",
    "    optimizer=optimizer_msle,\n",
    "    loss='mean_squared_logarithmic_error',\n",
    "    metrics=['accuracy']\n",
    ")\n"
   ]
  },
  {
   "cell_type": "code",
   "execution_count": null,
   "metadata": {},
   "outputs": [],
   "source": [
    "model_test_2.summary()"
   ]
  },
  {
   "cell_type": "code",
   "execution_count": null,
   "metadata": {},
   "outputs": [],
   "source": [
    "history2 = model_test_2.fit(\n",
    "    train_generator,\n",
    "    epochs=60,\n",
    "    validation_data=val_generator,\n",
    "    callbacks=[lr_scheduler, early_stopping],\n",
    "    batch_size=32\n",
    ")"
   ]
  },
  {
   "cell_type": "code",
   "execution_count": null,
   "metadata": {},
   "outputs": [],
   "source": [
    "# Evaluate the model\n",
    "test_loss_msle, test_accuracy_msle = model_test_2.evaluate(test_generator)\n",
    "print(f'Test Loss: {test_loss_msle}, Test Accuracy: {test_accuracy_msle}')"
   ]
  },
  {
   "cell_type": "code",
   "execution_count": null,
   "metadata": {},
   "outputs": [],
   "source": [
    "test_prediction = model_test_1.predict(test_generator)"
   ]
  },
  {
   "cell_type": "code",
   "execution_count": null,
   "metadata": {},
   "outputs": [],
   "source": [
    "import matplotlib.pyplot as plt\n",
    "\n",
    "# Plot training & validation loss values\n",
    "plt.figure(figsize=(10, 5))\n",
    "plt.plot(history2.history['loss'], label='Training Loss')\n",
    "plt.plot(history2.history['val_loss'], label='Validation Loss')\n",
    "plt.title('Model Loss')\n",
    "plt.xlabel('Epoch')\n",
    "plt.ylabel('Loss (MSLE)')\n",
    "plt.legend()\n",
    "plt.show()\n"
   ]
  },
  {
   "cell_type": "code",
   "execution_count": null,
   "metadata": {},
   "outputs": [],
   "source": [
    "from sklearn.metrics import mean_absolute_error, mean_squared_error\n",
    "\n",
    "# Predict on validation data\n",
    "val_preds = model_test_2.predict(val_generator)\n",
    "val_labels = np.concatenate([y for _, y in val_generator], axis=0)\n",
    "\n",
    "# Calculate MAE and MSE\n",
    "mae = mean_absolute_error(val_labels, val_preds)\n",
    "mse = mean_squared_error(val_labels, val_preds)\n",
    "\n",
    "print(f'Mean Absolute Error: {mae}')\n",
    "print(f'Mean Squared Error: {mse}')\n"
   ]
  },
  {
   "cell_type": "code",
   "execution_count": null,
   "metadata": {},
   "outputs": [],
   "source": [
    "plt.figure(figsize=(8, 8))\n",
    "plt.scatter(val_labels, val_preds, alpha=0.5)\n",
    "plt.plot([val_labels.min(), val_labels.max()], [val_labels.min(), val_labels.max()], 'r--')\n",
    "plt.xlabel('Actual Values')\n",
    "plt.ylabel('Predicted Values')\n",
    "plt.title('Predicted vs Actual Values')\n",
    "plt.show()\n"
   ]
  },
  {
   "cell_type": "code",
   "execution_count": null,
   "metadata": {},
   "outputs": [],
   "source": [
    "residuals = val_labels - val_preds.flatten()\n",
    "plt.figure(figsize=(8, 5))\n",
    "plt.hist(residuals, bins=30, alpha=0.7)\n",
    "plt.xlabel('Residual')\n",
    "plt.ylabel('Frequency')\n",
    "plt.title('Residuals Distribution')\n",
    "plt.show()\n"
   ]
  },
  {
   "cell_type": "code",
   "execution_count": null,
   "metadata": {},
   "outputs": [],
   "source": [
    "# Assuming `lr_scheduler` logs the learning rate per epoch\n",
    "plt.plot(history2.history['lr'])\n",
    "plt.xlabel('Epoch')\n",
    "plt.ylabel('Learning Rate')\n",
    "plt.title('Learning Rate Schedule')\n",
    "plt.show()\n"
   ]
  },
  {
   "cell_type": "code",
   "execution_count": null,
   "metadata": {},
   "outputs": [],
   "source": [
    "from sklearn.metrics import r2_score\n",
    "\n",
    "r2 = r2_score(val_labels, val_preds)\n",
    "print(f'R² Score: {r2}')\n"
   ]
  },
  {
   "cell_type": "code",
   "execution_count": null,
   "metadata": {},
   "outputs": [],
   "source": [
    "# Plot training & validation accuracy values (if relevant)\n",
    "if 'accuracy' in history2.history:\n",
    "    plt.figure(figsize=(10, 5))\n",
    "    plt.plot(history2.history['accuracy'], label='Training Accuracy')\n",
    "    plt.plot(history2.history['val_accuracy'], label='Validation Accuracy')\n",
    "    plt.title('Model Accuracy')\n",
    "    plt.xlabel('Epoch')\n",
    "    plt.ylabel('Accuracy')\n",
    "    plt.legend()\n",
    "    plt.show()\n"
   ]
  },
  {
   "cell_type": "code",
   "execution_count": null,
   "metadata": {},
   "outputs": [],
   "source": [
    "from sklearn.metrics import precision_score, recall_score, f1_score\n",
    "\n",
    "# Predict on test data\n",
    "y_pred = (model_test_2.predict(test_generator) > 0.5).astype(\"int32\").flatten()\n",
    "y_true = np.concatenate([y for _, y in test_generator], axis=0)\n",
    "\n",
    "precision = precision_score(y_true, y_pred)\n",
    "recall = recall_score(y_true, y_pred)\n",
    "f1 = f1_score(y_true, y_pred)\n",
    "\n",
    "print(f\"Precision: {precision:.4f}\")\n",
    "print(f\"Recall: {recall:.4f}\")\n",
    "print(f\"F1 Score: {f1:.4f}\")\n"
   ]
  },
  {
   "cell_type": "code",
   "execution_count": null,
   "metadata": {},
   "outputs": [],
   "source": [
    "from sklearn.metrics import confusion_matrix\n",
    "import seaborn as sns\n",
    "\n",
    "cm = confusion_matrix(y_true, y_pred)\n",
    "plt.figure(figsize=(6, 4))\n",
    "sns.heatmap(cm, annot=True, fmt=\"d\", cmap=\"Blues\", xticklabels=['Negative', 'Positive'], yticklabels=['Negative', 'Positive'])\n",
    "plt.xlabel(\"Predicted Label\")\n",
    "plt.ylabel(\"True Label\")\n",
    "plt.title(\"Confusion Matrix\")\n",
    "plt.show()\n"
   ]
  },
  {
   "cell_type": "code",
   "execution_count": null,
   "metadata": {},
   "outputs": [],
   "source": [
    "from sklearn.metrics import roc_curve, auc\n",
    "\n",
    "y_pred_proba = model_test_2.predict(test_generator).flatten()\n",
    "fpr, tpr, _ = roc_curve(y_true, y_pred_proba)\n",
    "roc_auc = auc(fpr, tpr)\n",
    "\n",
    "plt.figure(figsize=(8, 6))\n",
    "plt.plot(fpr, tpr, color=\"blue\", label=f\"ROC Curve (AUC = {roc_auc:.4f})\")\n",
    "plt.plot([0, 1], [0, 1], color=\"gray\", linestyle=\"--\")\n",
    "plt.xlabel(\"False Positive Rate\")\n",
    "plt.ylabel(\"True Positive Rate\")\n",
    "plt.title(\"Receiver Operating Characteristic (ROC) Curve\")\n",
    "plt.legend()\n",
    "plt.show()\n"
   ]
  },
  {
   "cell_type": "code",
   "execution_count": null,
   "metadata": {},
   "outputs": [],
   "source": [
    "from sklearn.metrics import precision_recall_curve, average_precision_score\n",
    "\n",
    "precision, recall, _ = precision_recall_curve(y_true, y_pred_proba)\n",
    "avg_precision = average_precision_score(y_true, y_pred_proba)\n",
    "\n",
    "plt.figure(figsize=(8, 6))\n",
    "plt.plot(recall, precision, color=\"purple\", label=f\"Precision-Recall Curve (AP = {avg_precision:.4f})\")\n",
    "plt.xlabel(\"Recall\")\n",
    "plt.ylabel(\"Precision\")\n",
    "plt.title(\"Precision-Recall Curve\")\n",
    "plt.legend()\n",
    "plt.show()\n"
   ]
  },
  {
   "cell_type": "code",
   "execution_count": null,
   "metadata": {},
   "outputs": [],
   "source": [
    "model_test_2.save('../../saved/model_test_2_acc_95_msle.h5')\n",
    "\n",
    "model_test_2.save_weights('../../saved/model_test_2_weights_acc_95_msle.h5')"
   ]
  },
  {
   "cell_type": "markdown",
   "metadata": {},
   "source": [
    "## **Test 1 vs Test 2**"
   ]
  },
  {
   "cell_type": "code",
   "execution_count": null,
   "metadata": {},
   "outputs": [],
   "source": [
    "import matplotlib.pyplot as plt\n",
    "\n",
    "plt.figure(figsize=(12, 6))\n",
    "\n",
    "# Plot training loss\n",
    "plt.plot(history.history['loss'], label='Model 1 - Training Loss')\n",
    "plt.plot(history2.history['loss'], label='Model 2 - Training Loss', linestyle='--')\n",
    "\n",
    "# Plot validation loss\n",
    "plt.plot(history.history['val_loss'], label='Model 1 - Validation Loss')\n",
    "plt.plot(history2.history['val_loss'], label='Model 2 - Validation Loss', linestyle='--')\n",
    "\n",
    "plt.title('Training and Validation Loss Comparison')\n",
    "plt.xlabel('Epoch')\n",
    "plt.ylabel('Loss (e.g., MSLE)')\n",
    "plt.legend()\n",
    "plt.show()\n"
   ]
  },
  {
   "cell_type": "code",
   "execution_count": null,
   "metadata": {},
   "outputs": [],
   "source": [
    "if 'accuracy' in history.history and 'accuracy' in history2.history:\n",
    "    plt.figure(figsize=(12, 6))\n",
    "\n",
    "    # Plot training accuracy\n",
    "    plt.plot(history.history['accuracy'], label='Model 1 - Training Accuracy')\n",
    "    plt.plot(history2.history['accuracy'], label='Model 2 - Training Accuracy', linestyle='--')\n",
    "\n",
    "    # Plot validation accuracy\n",
    "    plt.plot(history.history['val_accuracy'], label='Model 1 - Validation Accuracy')\n",
    "    plt.plot(history2.history['val_accuracy'], label='Model 2 - Validation Accuracy', linestyle='--')\n",
    "\n",
    "    plt.title('Training and Validation Accuracy Comparison')\n",
    "    plt.xlabel('Epoch')\n",
    "    plt.ylabel('Accuracy')\n",
    "    plt.legend()\n",
    "    plt.show()\n"
   ]
  },
  {
   "cell_type": "code",
   "execution_count": null,
   "metadata": {},
   "outputs": [],
   "source": [
    "if 'lr' in history.history and 'lr' in history2.history:\n",
    "    plt.figure(figsize=(12, 6))\n",
    "\n",
    "    plt.plot(history.history['lr'], label='Model 1 - Learning Rate')\n",
    "    plt.plot(history2.history['lr'], label='Model 2 - Learning Rate', linestyle='--')\n",
    "\n",
    "    plt.title('Learning Rate Schedule Comparison')\n",
    "    plt.xlabel('Epoch')\n",
    "    plt.ylabel('Learning Rate')\n",
    "    plt.legend()\n",
    "    plt.show()\n"
   ]
  },
  {
   "cell_type": "code",
   "execution_count": null,
   "metadata": {},
   "outputs": [],
   "source": [
    "from sklearn.metrics import mean_absolute_error, mean_squared_error\n",
    "\n",
    "# Predictions and actual values for Model 1\n",
    "test_preds_1 = model_test_1.predict(test_generator)\n",
    "test_labels = np.concatenate([y for _, y in test_generator], axis=0)\n",
    "\n",
    "mae_1 = mean_absolute_error(test_labels, test_preds_1)\n",
    "mse_1 = mean_squared_error(test_labels, test_preds_1)\n",
    "\n",
    "# Predictions and actual values for Model 2\n",
    "test_preds_2 = model_test_2.predict(test_generator)\n",
    "mae_2 = mean_absolute_error(test_labels, test_preds_2)\n",
    "mse_2 = mean_squared_error(test_labels, test_preds_2)\n",
    "\n",
    "print(f\"Model 1 - MAE: {mae_1}, MSE: {mse_1}\")\n",
    "print(f\"Model 2 - MAE: {mae_2}, MSE: {mse_2}\")\n"
   ]
  },
  {
   "cell_type": "code",
   "execution_count": null,
   "metadata": {},
   "outputs": [],
   "source": [
    "residuals_1 = test_labels - test_preds_1.flatten()\n",
    "residuals_2 = test_labels - test_preds_2.flatten()\n",
    "\n",
    "plt.figure(figsize=(12, 6))\n",
    "\n",
    "# Residuals for Model 1\n",
    "plt.hist(residuals_1, bins=30, alpha=0.5, label='Model 1 Residuals')\n",
    "\n",
    "# Residuals for Model 2\n",
    "plt.hist(residuals_2, bins=30, alpha=0.5, label='Model 2 Residuals')\n",
    "\n",
    "plt.xlabel('Residual')\n",
    "plt.ylabel('Frequency')\n",
    "plt.title('Residuals Comparison')\n",
    "plt.legend()\n",
    "plt.show()\n"
   ]
  },
  {
   "cell_type": "markdown",
   "metadata": {},
   "source": [
    "## **Test 3: Using Mean Absolute Percentage error as loss function**"
   ]
  },
  {
   "cell_type": "code",
   "execution_count": null,
   "metadata": {},
   "outputs": [],
   "source": [
    "model_test_3 = build_full_model()"
   ]
  },
  {
   "cell_type": "code",
   "execution_count": null,
   "metadata": {},
   "outputs": [],
   "source": [
    "optimizer_mape = Adam(learning_rate=1e-4)"
   ]
  },
  {
   "cell_type": "code",
   "execution_count": null,
   "metadata": {},
   "outputs": [],
   "source": [
    "model_test_3.compile(\n",
    "    optimizer=optimizer_mape,\n",
    "    loss='mean_absolute_percentage_error',\n",
    "    metrics=['accuracy']\n",
    ")"
   ]
  },
  {
   "cell_type": "code",
   "execution_count": null,
   "metadata": {},
   "outputs": [],
   "source": [
    "model_test_3.summary()"
   ]
  },
  {
   "cell_type": "code",
   "execution_count": null,
   "metadata": {},
   "outputs": [],
   "source": [
    "history3 = model_test_3.fit(\n",
    "    train_generator,\n",
    "    epochs=60,\n",
    "    validation_data=val_generator,\n",
    "    callbacks=[lr_scheduler, early_stopping],\n",
    "    batch_size=32\n",
    ")"
   ]
  },
  {
   "cell_type": "markdown",
   "metadata": {},
   "source": [
    "\n",
    "\n",
    "# Deepfake Detection Model\n",
    "\n",
    "## Table of Contents\n",
    "1. [Introduction](#introduction)\n",
    "2. [Data Preparation](#data-preparation)\n",
    "3. [Model Configurations](#model-configurations)\n",
    "4. [Training and Validation Performance](#training-and-validation-performance)\n",
    "5. [Convergence and Training Progress](#convergence-and-training-progress)\n",
    "6. [Error Analysis and Residuals](#error-analysis-and-residuals)\n",
    "7. [Recommendations](#recommendations)\n",
    "\n",
    "---\n",
    "\n",
    "## Introduction\n",
    "\n",
    "This documentation provides an in-depth analysis of three models developed to classify deepfake videos using frame-level data and micro-expression features. The models leverage different loss functions and configurations, exploring their impact on performance, convergence, and error handling.\n",
    "\n",
    "---\n",
    "\n",
    "## Data Preparation\n",
    "\n",
    "1. **Dataset Structure**: The dataset comprises frames and micro-expressions from original and manipulated videos, organized into structured folders for each video type and labeled as `original` or `manipulated`.\n",
    "   \n",
    "2. **Preprocessing**: Each frame was preprocessed:\n",
    "   - Facial frames were resized to 224x224.\n",
    "   - Micro-expression frames were resized to 64x64.\n",
    "\n",
    "3. **Splitting**: The data was divided into training, validation, and testing sets:\n",
    "   - Training: 1,491 videos\n",
    "   - Validation: 373 videos\n",
    "   - Testing: 799 videos\n",
    "\n",
    "4. **Generator Setup**: Data generators were established for efficient loading, using `tf.data.Dataset` to feed data batches during training and evaluation.\n",
    "\n",
    "---\n",
    "\n",
    "## Model Configurations\n",
    "\n",
    "### 1. **Model Test 1**\n",
    "   - **Loss Function**: Binary Cross-Entropy\n",
    "   - **Optimizer**: Adam (learning rate = 1e-4)\n",
    "   - **Callbacks**:\n",
    "     - Early stopping (patience = 10, monitored on validation loss)\n",
    "     - Learning rate scheduler (`ReduceLROnPlateau` with a patience of 5 and reduction factor of 0.5)\n",
    "   - **Layers**: Dense and Dropout layers, Global Average Pooling after feature extraction\n",
    "   \n",
    "### 2. **Model Test 2**\n",
    "   - **Loss Function**: Mean Squared Logarithmic Error (MSLE)\n",
    "   - **Optimizer**: Adam (same learning rate)\n",
    "   - **Callbacks**: Identical to Model Test 1\n",
    "   - **Layers**: Identical to Model Test 1, allowing direct comparison of loss function impacts\n",
    "\n",
    "### 3. **Model Test 3**\n",
    "   - **Loss Function**: Mean Absolute Percentage Error (MAPE)\n",
    "   - **Optimizer**: Adam (learning rate = 1e-4)\n",
    "   - **Callbacks**: Same as Model Test 1\n",
    "   - **Layers**: Identical to Models 1 and 2\n",
    "\n",
    "---\n",
    "\n",
    "## Training and Validation Performance\n",
    "\n",
    "### Model Test 1: Key Metrics\n",
    "   - **Accuracy**: 90.74% on test data\n",
    "   - **Loss**: 0.29 (Binary Cross-Entropy)\n",
    "   - **Precision, Recall, F1 Score**:\n",
    "      - Precision: 90.82%\n",
    "      - Recall: 90.74%\n",
    "      - F1 Score: 90.72%\n",
    "   - **ROC-AUC**: 0.9757\n",
    "\n",
    "### Model Test 2: Key Metrics\n",
    "   - **Accuracy**: 93.12% on test data\n",
    "   - **Loss**: 0.11 (MSLE)\n",
    "   - **Precision, Recall, F1 Score**:\n",
    "      - Precision: 88.26%\n",
    "      - Recall: 98.69%\n",
    "      - F1 Score: 93.18%\n",
    "   - **ROC-AUC**: 0.9276\n",
    "\n",
    "### Model Test 3: Key Metrics\n",
    "   - **Accuracy**: Approximately 51% on test data\n",
    "   - **Loss**: Large fluctuations due to MAPE’s impact on outlier sensitivity\n",
    "\n",
    "---\n",
    "\n",
    "## Convergence and Training Progress\n",
    "\n",
    "Both Models 1 and 2 demonstrated efficient convergence, assisted by early stopping and learning rate scheduling.\n",
    "\n",
    "- **Model Test 1**:\n",
    "   - Reached early stopping at **epoch 16**, showing consistent accuracy.\n",
    "   - Displayed smoother convergence compared to Model Test 2, with fewer fluctuations in validation loss.\n",
    "   \n",
    "- **Model Test 2**:\n",
    "   - Required **43 epochs** to reach early stopping.\n",
    "   - MSLE sensitivity to small values caused a higher variance in validation loss.\n",
    "\n",
    "---\n",
    "\n",
    "## Error Analysis and Residuals\n",
    "\n",
    "The models were evaluated based on Mean Absolute Error (MAE) and Mean Squared Error (MSE), with results as follows:\n",
    "\n",
    "- **Model Test 1**:\n",
    "   - MAE: 0.1205\n",
    "   - MSE: 0.0676\n",
    "   \n",
    "- **Model Test 2**:\n",
    "   - MAE: 0.0690\n",
    "   - MSE: 0.0652\n",
    "   \n",
    "### Observations:\n",
    "   - **Model Test 1** performed better in error terms, suggesting Binary Cross-Entropy may be more suitable for binary classification.\n",
    "   - **Model Test 2** handled smaller errors well due to MSLE but displayed higher overall residuals.\n",
    "\n",
    "---\n",
    "\n",
    "## Recommendations\n",
    "\n",
    "1. **Binary Cross-Entropy vs. MSLE**:\n",
    "   - **Binary Cross-Entropy** (Model Test 1) is recommended for binary classification, balancing high accuracy with effective class separability.\n",
    "   - **MSLE** (Model Test 2) may be less ideal for binary classification but useful for handling small error terms.\n",
    "\n",
    "2. **Final Model Selection**:\n",
    "   - Model Test 1, using Binary Cross-Entropy, is recommended for this classification task due to superior performance metrics (accuracy, precision, F1 score, and ROC-AUC).\n",
    "\n",
    "---\n",
    "\n",
    "## Conclusion\n",
    "\n",
    "This research highlights the effectiveness of Binary Cross-Entropy for deepfake detection and suggests that while MSLE and MAPE have specialized use cases, Binary Cross-Entropy offers a more balanced approach for this binary classification task."
   ]
  },
  {
   "cell_type": "markdown",
   "metadata": {},
   "source": []
  }
 ],
 "metadata": {
  "kernelspec": {
   "display_name": "Face-Swap-Detection-Model",
   "language": "python",
   "name": "python3"
  },
  "language_info": {
   "codemirror_mode": {
    "name": "ipython",
    "version": 3
   },
   "file_extension": ".py",
   "mimetype": "text/x-python",
   "name": "python",
   "nbconvert_exporter": "python",
   "pygments_lexer": "ipython3",
   "version": "3.11.9"
  }
 },
 "nbformat": 4,
 "nbformat_minor": 2
}
