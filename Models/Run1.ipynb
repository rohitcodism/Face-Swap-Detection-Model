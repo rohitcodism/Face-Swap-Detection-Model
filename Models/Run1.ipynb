{
 "cells": [
  {
   "cell_type": "markdown",
   "id": "d427c0897c34fdf8",
   "metadata": {},
   "source": [
    "# Introduction to the Integrated Deepfake Detection System\n",
    "\n",
    "## Overview\n",
    "\n",
    "Welcome to the Integrated Deepfake Detection System! This project is a comprehensive effort to tackle the growing problem of deepfake videos using advanced machine learning techniques. As deepfake technology continues to evolve, it poses significant challenges to privacy, security, and authenticity in media. Our system is designed to detect deepfakes by analyzing multiple aspects of video content, specifically focusing on spatial, temporal, and micro-expression features. By integrating these different feature types, we aim to create a robust and reliable detection mechanism capable of identifying manipulated video content.\n",
    "\n",
    "## Objectives\n",
    "\n",
    "The primary objective of this project is to develop a deepfake detection system that can accurately distinguish between genuine and manipulated videos. This involves:\n",
    "\n",
    "1. **Spatial Feature Extraction**: Analyzing individual frames of a video to capture static facial features. This is accomplished using pre-trained Convolutional Neural Networks (CNNs) such as ResNet50 and VGG16, which are fine-tuned for this task.\n",
    "   \n",
    "2. **Temporal Feature Extraction**: Understanding how facial features change over time by analyzing sequences of frames. Bidirectional Long Short-Term Memory (BiLSTM) networks are employed to capture temporal dependencies and detect inconsistencies in the flow of facial expressions.\n",
    "\n",
    "3. **Micro-Expression Analysis**: Focusing on subtle facial movements that are difficult to replicate in deepfake videos. This module uses specialized CNN architectures to extract and analyze micro-expressions, providing an additional layer of detection.\n",
    "\n",
    "4. **Feature Fusion**: Combining spatial, temporal, and micro-expression features using attention mechanisms to form a comprehensive feature set that enhances detection accuracy. This fusion approach leverages the strengths of each feature type to make a final decision about the authenticity of the video.\n",
    "\n",
    "## Why This Approach?\n",
    "\n",
    "Deepfake detection is a challenging task due to the sophistication of the algorithms used to create these fakes. Traditional detection methods that rely on a single type of feature often fail to capture the complexity of manipulations. By integrating spatial, temporal, and micro-expression features, our approach provides a multi-dimensional analysis that significantly improves the likelihood of detecting deepfakes. This holistic strategy addresses the limitations of existing methods and provides a more reliable solution.\n",
    "\n",
    "### Key Challenges Addressed:\n",
    "\n",
    "- **Variability in Deepfake Techniques**: Different deepfake algorithms have varying strengths and weaknesses. By analyzing multiple aspects of the video, our system can detect a wide range of manipulations.\n",
    "- **Subtle Manipulations**: Some deepfakes are so well-crafted that the manipulations are not immediately noticeable to the human eye. Micro-expression analysis helps in detecting these subtle manipulations.\n",
    "- **Generalization**: Ensuring that the model is not overfitting to specific datasets or types of deepfakes. The fusion of different feature types helps the model generalize better across diverse datasets.\n",
    "\n",
    "## Dataset\n",
    "\n",
    "For this project, we use the **FaceForensics++** dataset, which is a benchmark dataset commonly used in deepfake detection research. It contains a collection of both original and manipulated video sequences, providing a diverse set of examples for training and testing the system. The dataset is divided into two main categories:\n",
    "\n",
    "- **Original Sequences**: Videos that have not been altered, serving as ground truth for authenticity.\n",
    "- **Manipulated Sequences**: Videos that have been altered using various deepfake techniques, providing examples of fake content.\n",
    "\n",
    "## Notebook Structure\n",
    "\n",
    "This Jupyter Notebook is structured to guide you through the different stages of the deepfake detection process:\n",
    "\n",
    "1. **Data Preprocessing**: Preparing the video frames for feature extraction, including face detection, alignment, and normalization.\n",
    "   \n",
    "2. **Model Architecture**: Detailed implementation of the spatial, temporal, and micro-expression feature extraction models. This section includes building and training the CNN (ResNet50, VGG16), BiLSTM, and micro-expression analysis models.\n",
    "\n",
    "3. **Feature Fusion and Classification**: Combining the extracted features and using attention mechanisms to improve the detection accuracy. The final output layer provides the classification result, indicating whether the video is genuine or a deepfake.\n",
    "\n",
    "4. **Evaluation and Results**: Testing the trained model on a set of test videos and evaluating its performance using metrics such as accuracy, precision, recall, and F1-score.\n",
    "\n",
    "5. **Conclusion and Future Work**: Summarizing the findings and discussing potential improvements and future directions for research in deepfake detection.\n",
    "\n",
    "## Getting Started\n",
    "\n",
    "To run this notebook, ensure that you have all the necessary dependencies installed. The required libraries are listed in the `requirements.txt` file. Use the following command to install them:\n",
    "\n",
    "```bash\n",
    "pip install -r requirements.txt\n",
    "```\n",
    "\n",
    "Additionally, make sure you have the FaceForensics++ dataset downloaded and placed in the appropriate directory as specified in the notebook.\n",
    "\n",
    "## Conclusion\n",
    "\n",
    "The Integrated Deepfake Detection System represents a significant step towards addressing the challenges posed by deepfake technology. By leveraging multiple feature extraction methods and incorporating attention mechanisms, this system aims to provide a robust solution for identifying manipulated video content. We hope that this project will contribute to the ongoing efforts to maintain the integrity and authenticity of digital media.\n",
    "\n",
    "Let's get started and dive into the world of deepfake detection!"
   ]
  },
  {
   "cell_type": "markdown",
   "id": "b9540ebef66cb2a0",
   "metadata": {},
   "source": [
    "## **Data Loading**"
   ]
  },
  {
   "cell_type": "code",
   "id": "5c3172c61182ab4a",
   "metadata": {
    "ExecuteTime": {
     "end_time": "2024-09-03T18:29:46.591978Z",
     "start_time": "2024-09-03T18:29:45.804108Z"
    }
   },
   "source": [
    "import pandas as pd\n",
    "import numpy as np\n",
    "import os"
   ],
   "outputs": [],
   "execution_count": 1
  },
  {
   "metadata": {
    "ExecuteTime": {
     "end_time": "2024-09-03T18:29:46.596931Z",
     "start_time": "2024-09-03T18:29:46.591978Z"
    }
   },
   "cell_type": "code",
   "source": [
    "original_video_directory = '../Datasets/original_sequences'\n",
    "manipulated_video_directory = '../Datasets/manipulated_sequences'"
   ],
   "id": "a2d48c4ab535e1de",
   "outputs": [],
   "execution_count": 2
  },
  {
   "metadata": {
    "ExecuteTime": {
     "end_time": "2024-09-03T18:29:46.605051Z",
     "start_time": "2024-09-03T18:29:46.596931Z"
    }
   },
   "cell_type": "code",
   "source": [
    "video_paths = []\n",
    "labels = []\n",
    "\n",
    "for  video in os.listdir(original_video_directory):\n",
    "    if video.endswith('.mp4'):\n",
    "        video_paths.append(os.path.join(original_video_directory, video))\n",
    "        labels.append(0)\n",
    "for video in os.listdir(manipulated_video_directory):\n",
    "    if video.endswith('.mp4'):\n",
    "        video_paths.append(os.path.join(manipulated_video_directory,video))\n",
    "        labels.append(1)\n",
    "\n",
    "deepfake_data = pd.DataFrame({\n",
    "    'video_path': video_paths,\n",
    "    'label': labels\n",
    "})\n",
    "\n",
    "deepfake_data = deepfake_data.sample(frac=1).reset_index(drop=True)"
   ],
   "id": "96170d76db4d8ca9",
   "outputs": [],
   "execution_count": 3
  },
  {
   "metadata": {
    "ExecuteTime": {
     "end_time": "2024-09-03T18:29:46.614455Z",
     "start_time": "2024-09-03T18:29:46.605051Z"
    }
   },
   "cell_type": "code",
   "source": "deepfake_data['label'].value_counts()",
   "id": "4967b47ec0037174",
   "outputs": [
    {
     "data": {
      "text/plain": [
       "label\n",
       "1    56\n",
       "0    36\n",
       "Name: count, dtype: int64"
      ]
     },
     "execution_count": 4,
     "metadata": {},
     "output_type": "execute_result"
    }
   ],
   "execution_count": 4
  },
  {
   "cell_type": "markdown",
   "id": "b1b4580d4832d031",
   "metadata": {},
   "source": [
    "## **Preprocessing Phase**"
   ]
  },
  {
   "cell_type": "code",
   "id": "5da46b4e2841c322",
   "metadata": {
    "ExecuteTime": {
     "end_time": "2024-09-03T18:29:46.619443Z",
     "start_time": "2024-09-03T18:29:46.614455Z"
    }
   },
   "source": [],
   "outputs": [],
   "execution_count": 4
  },
  {
   "cell_type": "markdown",
   "id": "e7953a0c42f06ed",
   "metadata": {},
   "source": [
    "## **Model Building**"
   ]
  },
  {
   "metadata": {},
   "cell_type": "markdown",
   "source": "## 1. **Facial Feature Extractor Module**",
   "id": "f5196a483ec9cd14"
  },
  {
   "cell_type": "markdown",
   "id": "ba19f2fcb81df0d0",
   "metadata": {},
   "source": [
    "### 1. Spatial Feature Extractor"
   ]
  },
  {
   "cell_type": "code",
   "id": "initial_id",
   "metadata": {
    "collapsed": true,
    "ExecuteTime": {
     "end_time": "2024-09-03T18:29:51.095076Z",
     "start_time": "2024-09-03T18:29:46.619443Z"
    }
   },
   "source": [
    "import numpy as np\n",
    "import cv2\n",
    "import os\n",
    "import tensorflow as tf\n",
    "from keras.api.layers import TimeDistributed,Input, Flatten\n",
    "from keras.api.applications.resnet50 import  ResNet50, preprocess_input as resnet_preprocess\n",
    "from keras.api.models import  Model\n",
    "import matplotlib.pyplot as plt"
   ],
   "outputs": [],
   "execution_count": 5
  },
  {
   "cell_type": "code",
   "id": "7fe90f1b1c190f6e",
   "metadata": {
    "ExecuteTime": {
     "end_time": "2024-09-03T18:29:52.327165Z",
     "start_time": "2024-09-03T18:29:51.095076Z"
    }
   },
   "source": [
    "base_model = ResNet50(include_top=False, weights='imagenet', pooling='avg', input_shape=(224,224,3))"
   ],
   "outputs": [],
   "execution_count": 6
  },
  {
   "cell_type": "code",
   "id": "dd898bcb7d806b01",
   "metadata": {
    "ExecuteTime": {
     "end_time": "2024-09-03T18:29:52.338592Z",
     "start_time": "2024-09-03T18:29:52.327165Z"
    }
   },
   "source": [
    "model =  Model(inputs=base_model.input, outputs=base_model.output)"
   ],
   "outputs": [],
   "execution_count": 7
  },
  {
   "cell_type": "code",
   "id": "5a33ea5a",
   "metadata": {
    "ExecuteTime": {
     "end_time": "2024-09-03T18:29:52.344320Z",
     "start_time": "2024-09-03T18:29:52.338592Z"
    }
   },
   "source": [
    "def resnet_preprocess(image_path, target_size=(224,224)):\n",
    "\n",
    "    img = tf.io.read_file(image_path)\n",
    "    img = tf.image.decode_image(img, channels=3)\n",
    "    img = tf.image.resize(img, target_size)\n",
    "\n",
    "    img = img/255.0\n",
    "    img = (img-0.5)*2.0\n",
    "\n",
    "    img_arr = tf.expand_dims(img, axis=0)\n",
    "\n",
    "    return img_arr\n"
   ],
   "outputs": [],
   "execution_count": 8
  },
  {
   "cell_type": "code",
   "id": "105c4db77fb7b21d",
   "metadata": {
    "ExecuteTime": {
     "end_time": "2024-09-03T18:29:52.353867Z",
     "start_time": "2024-09-03T18:29:52.344320Z"
    }
   },
   "source": [
    "preprocessable_files = []\n",
    "for filename in os.listdir('../frames'):\n",
    "    filepath = os.path.join('../frames',filename)\n",
    "    preprocessable_files.append(filepath)"
   ],
   "outputs": [],
   "execution_count": 9
  },
  {
   "cell_type": "code",
   "id": "e53bbe32",
   "metadata": {
    "ExecuteTime": {
     "end_time": "2024-09-03T18:29:52.845813Z",
     "start_time": "2024-09-03T18:29:52.353867Z"
    }
   },
   "source": [
    "preprocessed_images = []\n",
    "for item in preprocessable_files:\n",
    "    preprocessed_img = resnet_preprocess(item)\n",
    "    preprocessed_images.append(preprocessed_img)\n",
    "preprocessed_images_batch = tf.concat(preprocessed_images, axis=0)"
   ],
   "outputs": [],
   "execution_count": 10
  },
  {
   "cell_type": "code",
   "id": "fd56e964",
   "metadata": {
    "ExecuteTime": {
     "end_time": "2024-09-03T18:29:52.851286Z",
     "start_time": "2024-09-03T18:29:52.845813Z"
    }
   },
   "source": [
    "len(preprocessed_images_batch)"
   ],
   "outputs": [
    {
     "data": {
      "text/plain": [
       "146"
      ]
     },
     "execution_count": 11,
     "metadata": {},
     "output_type": "execute_result"
    }
   ],
   "execution_count": 11
  },
  {
   "cell_type": "code",
   "id": "40d98932",
   "metadata": {
    "ExecuteTime": {
     "end_time": "2024-09-03T18:29:52.870568Z",
     "start_time": "2024-09-03T18:29:52.851286Z"
    }
   },
   "source": [
    "preprocessed_images = np.array(preprocessed_images_batch)"
   ],
   "outputs": [],
   "execution_count": 12
  },
  {
   "cell_type": "code",
   "id": "a848e377",
   "metadata": {
    "ExecuteTime": {
     "end_time": "2024-09-03T18:30:01.326447Z",
     "start_time": "2024-09-03T18:29:52.870568Z"
    }
   },
   "source": [
    "features = model.predict(preprocessed_images)"
   ],
   "outputs": [
    {
     "name": "stdout",
     "output_type": "stream",
     "text": [
      "\u001B[1m5/5\u001B[0m \u001B[32m━━━━━━━━━━━━━━━━━━━━\u001B[0m\u001B[37m\u001B[0m \u001B[1m8s\u001B[0m 1s/step\n"
     ]
    }
   ],
   "execution_count": 13
  },
  {
   "cell_type": "code",
   "id": "d2e7cacb",
   "metadata": {
    "ExecuteTime": {
     "end_time": "2024-09-03T18:30:01.333202Z",
     "start_time": "2024-09-03T18:30:01.326447Z"
    }
   },
   "source": [
    "preprocessed_images.shape"
   ],
   "outputs": [
    {
     "data": {
      "text/plain": [
       "(146, 224, 224, 3)"
      ]
     },
     "execution_count": 14,
     "metadata": {},
     "output_type": "execute_result"
    }
   ],
   "execution_count": 14
  },
  {
   "cell_type": "code",
   "id": "a16e650e",
   "metadata": {
    "ExecuteTime": {
     "end_time": "2024-09-03T18:30:01.341433Z",
     "start_time": "2024-09-03T18:30:01.333202Z"
    }
   },
   "source": [
    "preprocessed_images_expanded = np.expand_dims(preprocessed_images, axis=0)"
   ],
   "outputs": [],
   "execution_count": 15
  },
  {
   "cell_type": "code",
   "id": "8586f98b",
   "metadata": {
    "ExecuteTime": {
     "end_time": "2024-09-03T18:30:01.348261Z",
     "start_time": "2024-09-03T18:30:01.341433Z"
    }
   },
   "source": [
    "preprocessed_images_expanded.shape"
   ],
   "outputs": [
    {
     "data": {
      "text/plain": [
       "(1, 146, 224, 224, 3)"
      ]
     },
     "execution_count": 16,
     "metadata": {},
     "output_type": "execute_result"
    }
   ],
   "execution_count": 16
  },
  {
   "cell_type": "code",
   "id": "143ce7c2",
   "metadata": {
    "ExecuteTime": {
     "end_time": "2024-09-03T18:30:01.356383Z",
     "start_time": "2024-09-03T18:30:01.348261Z"
    }
   },
   "source": [
    "features.shape"
   ],
   "outputs": [
    {
     "data": {
      "text/plain": [
       "(146, 2048)"
      ]
     },
     "execution_count": 17,
     "metadata": {},
     "output_type": "execute_result"
    }
   ],
   "execution_count": 17
  },
  {
   "cell_type": "code",
   "id": "71ade45a",
   "metadata": {
    "ExecuteTime": {
     "end_time": "2024-09-03T18:30:01.364191Z",
     "start_time": "2024-09-03T18:30:01.356383Z"
    }
   },
   "source": [
    "print(features[0])"
   ],
   "outputs": [
    {
     "name": "stdout",
     "output_type": "stream",
     "text": [
      "[0.         0.         0.00772802 ... 4.02363    0.         0.        ]\n"
     ]
    }
   ],
   "execution_count": 18
  },
  {
   "cell_type": "markdown",
   "id": "36f30f05",
   "metadata": {},
   "source": [
    "### 2. Temporal Feature Extractor"
   ]
  },
  {
   "cell_type": "code",
   "id": "2294abec",
   "metadata": {
    "ExecuteTime": {
     "end_time": "2024-09-03T18:30:01.374472Z",
     "start_time": "2024-09-03T18:30:01.364191Z"
    }
   },
   "source": [
    "from tensorflow import keras\n",
    "from keras.layers import Bidirectional,LSTM,Input\n",
    "from keras.models import Model"
   ],
   "outputs": [],
   "execution_count": 19
  },
  {
   "cell_type": "code",
   "id": "601c81d8",
   "metadata": {
    "ExecuteTime": {
     "end_time": "2024-09-03T18:30:01.380476Z",
     "start_time": "2024-09-03T18:30:01.374472Z"
    }
   },
   "source": [
    "def build_temporal_feature_extractor(sequence_length, feature_shape):\n",
    "    input_seq = Input((sequence_length, feature_shape))\n",
    "\n",
    "    lstm_1 = LSTM(128, return_sequences=True, dropout=0.2)\n",
    "    lstm_2 = LSTM(64,return_sequences=True, dropout=0.2)\n",
    "\n",
    "    lstm_out = Bidirectional(lstm_1)(input_seq)\n",
    "    lstm_out = Bidirectional(lstm_2)(lstm_out)\n",
    "\n",
    "    model = Model(inputs=input_seq, outputs=lstm_out)\n",
    "    return model"
   ],
   "outputs": [],
   "execution_count": 20
  },
  {
   "cell_type": "code",
   "id": "e9a1b710",
   "metadata": {
    "ExecuteTime": {
     "end_time": "2024-09-03T18:30:01.481558Z",
     "start_time": "2024-09-03T18:30:01.380476Z"
    }
   },
   "source": [
    "temporal_feature_extractor = build_temporal_feature_extractor(sequence_length=features.shape[0], feature_shape=features.shape[1])"
   ],
   "outputs": [],
   "execution_count": 21
  },
  {
   "cell_type": "code",
   "id": "10022d92",
   "metadata": {
    "ExecuteTime": {
     "end_time": "2024-09-03T18:30:01.503361Z",
     "start_time": "2024-09-03T18:30:01.481558Z"
    }
   },
   "source": [
    "temporal_feature_extractor.summary()"
   ],
   "outputs": [
    {
     "data": {
      "text/plain": [
       "\u001B[1mModel: \"functional_1\"\u001B[0m\n"
      ],
      "text/html": [
       "<pre style=\"white-space:pre;overflow-x:auto;line-height:normal;font-family:Menlo,'DejaVu Sans Mono',consolas,'Courier New',monospace\"><span style=\"font-weight: bold\">Model: \"functional_1\"</span>\n",
       "</pre>\n"
      ]
     },
     "metadata": {},
     "output_type": "display_data"
    },
    {
     "data": {
      "text/plain": [
       "┏━━━━━━━━━━━━━━━━━━━━━━━━━━━━━━━━━┳━━━━━━━━━━━━━━━━━━━━━━━━┳━━━━━━━━━━━━━━━┓\n",
       "┃\u001B[1m \u001B[0m\u001B[1mLayer (type)                   \u001B[0m\u001B[1m \u001B[0m┃\u001B[1m \u001B[0m\u001B[1mOutput Shape          \u001B[0m\u001B[1m \u001B[0m┃\u001B[1m \u001B[0m\u001B[1m      Param #\u001B[0m\u001B[1m \u001B[0m┃\n",
       "┡━━━━━━━━━━━━━━━━━━━━━━━━━━━━━━━━━╇━━━━━━━━━━━━━━━━━━━━━━━━╇━━━━━━━━━━━━━━━┩\n",
       "│ input_layer_1 (\u001B[38;5;33mInputLayer\u001B[0m)      │ (\u001B[38;5;45mNone\u001B[0m, \u001B[38;5;34m146\u001B[0m, \u001B[38;5;34m2048\u001B[0m)      │             \u001B[38;5;34m0\u001B[0m │\n",
       "├─────────────────────────────────┼────────────────────────┼───────────────┤\n",
       "│ bidirectional (\u001B[38;5;33mBidirectional\u001B[0m)   │ (\u001B[38;5;45mNone\u001B[0m, \u001B[38;5;34m146\u001B[0m, \u001B[38;5;34m256\u001B[0m)       │     \u001B[38;5;34m2,229,248\u001B[0m │\n",
       "├─────────────────────────────────┼────────────────────────┼───────────────┤\n",
       "│ bidirectional_1 (\u001B[38;5;33mBidirectional\u001B[0m) │ (\u001B[38;5;45mNone\u001B[0m, \u001B[38;5;34m146\u001B[0m, \u001B[38;5;34m128\u001B[0m)       │       \u001B[38;5;34m164,352\u001B[0m │\n",
       "└─────────────────────────────────┴────────────────────────┴───────────────┘\n"
      ],
      "text/html": [
       "<pre style=\"white-space:pre;overflow-x:auto;line-height:normal;font-family:Menlo,'DejaVu Sans Mono',consolas,'Courier New',monospace\">┏━━━━━━━━━━━━━━━━━━━━━━━━━━━━━━━━━┳━━━━━━━━━━━━━━━━━━━━━━━━┳━━━━━━━━━━━━━━━┓\n",
       "┃<span style=\"font-weight: bold\"> Layer (type)                    </span>┃<span style=\"font-weight: bold\"> Output Shape           </span>┃<span style=\"font-weight: bold\">       Param # </span>┃\n",
       "┡━━━━━━━━━━━━━━━━━━━━━━━━━━━━━━━━━╇━━━━━━━━━━━━━━━━━━━━━━━━╇━━━━━━━━━━━━━━━┩\n",
       "│ input_layer_1 (<span style=\"color: #0087ff; text-decoration-color: #0087ff\">InputLayer</span>)      │ (<span style=\"color: #00d7ff; text-decoration-color: #00d7ff\">None</span>, <span style=\"color: #00af00; text-decoration-color: #00af00\">146</span>, <span style=\"color: #00af00; text-decoration-color: #00af00\">2048</span>)      │             <span style=\"color: #00af00; text-decoration-color: #00af00\">0</span> │\n",
       "├─────────────────────────────────┼────────────────────────┼───────────────┤\n",
       "│ bidirectional (<span style=\"color: #0087ff; text-decoration-color: #0087ff\">Bidirectional</span>)   │ (<span style=\"color: #00d7ff; text-decoration-color: #00d7ff\">None</span>, <span style=\"color: #00af00; text-decoration-color: #00af00\">146</span>, <span style=\"color: #00af00; text-decoration-color: #00af00\">256</span>)       │     <span style=\"color: #00af00; text-decoration-color: #00af00\">2,229,248</span> │\n",
       "├─────────────────────────────────┼────────────────────────┼───────────────┤\n",
       "│ bidirectional_1 (<span style=\"color: #0087ff; text-decoration-color: #0087ff\">Bidirectional</span>) │ (<span style=\"color: #00d7ff; text-decoration-color: #00d7ff\">None</span>, <span style=\"color: #00af00; text-decoration-color: #00af00\">146</span>, <span style=\"color: #00af00; text-decoration-color: #00af00\">128</span>)       │       <span style=\"color: #00af00; text-decoration-color: #00af00\">164,352</span> │\n",
       "└─────────────────────────────────┴────────────────────────┴───────────────┘\n",
       "</pre>\n"
      ]
     },
     "metadata": {},
     "output_type": "display_data"
    },
    {
     "data": {
      "text/plain": [
       "\u001B[1m Total params: \u001B[0m\u001B[38;5;34m2,393,600\u001B[0m (9.13 MB)\n"
      ],
      "text/html": [
       "<pre style=\"white-space:pre;overflow-x:auto;line-height:normal;font-family:Menlo,'DejaVu Sans Mono',consolas,'Courier New',monospace\"><span style=\"font-weight: bold\"> Total params: </span><span style=\"color: #00af00; text-decoration-color: #00af00\">2,393,600</span> (9.13 MB)\n",
       "</pre>\n"
      ]
     },
     "metadata": {},
     "output_type": "display_data"
    },
    {
     "data": {
      "text/plain": [
       "\u001B[1m Trainable params: \u001B[0m\u001B[38;5;34m2,393,600\u001B[0m (9.13 MB)\n"
      ],
      "text/html": [
       "<pre style=\"white-space:pre;overflow-x:auto;line-height:normal;font-family:Menlo,'DejaVu Sans Mono',consolas,'Courier New',monospace\"><span style=\"font-weight: bold\"> Trainable params: </span><span style=\"color: #00af00; text-decoration-color: #00af00\">2,393,600</span> (9.13 MB)\n",
       "</pre>\n"
      ]
     },
     "metadata": {},
     "output_type": "display_data"
    },
    {
     "data": {
      "text/plain": [
       "\u001B[1m Non-trainable params: \u001B[0m\u001B[38;5;34m0\u001B[0m (0.00 B)\n"
      ],
      "text/html": [
       "<pre style=\"white-space:pre;overflow-x:auto;line-height:normal;font-family:Menlo,'DejaVu Sans Mono',consolas,'Courier New',monospace\"><span style=\"font-weight: bold\"> Non-trainable params: </span><span style=\"color: #00af00; text-decoration-color: #00af00\">0</span> (0.00 B)\n",
       "</pre>\n"
      ]
     },
     "metadata": {},
     "output_type": "display_data"
    }
   ],
   "execution_count": 22
  },
  {
   "cell_type": "code",
   "id": "c84b20a7",
   "metadata": {
    "ExecuteTime": {
     "end_time": "2024-09-03T18:30:01.510126Z",
     "start_time": "2024-09-03T18:30:01.503361Z"
    }
   },
   "source": [
    "features.shape"
   ],
   "outputs": [
    {
     "data": {
      "text/plain": [
       "(146, 2048)"
      ]
     },
     "execution_count": 23,
     "metadata": {},
     "output_type": "execute_result"
    }
   ],
   "execution_count": 23
  },
  {
   "cell_type": "code",
   "id": "0e9938aa",
   "metadata": {
    "ExecuteTime": {
     "end_time": "2024-09-03T18:30:01.516508Z",
     "start_time": "2024-09-03T18:30:01.510126Z"
    }
   },
   "source": [
    "features_temp = np.expand_dims(features, axis=0)"
   ],
   "outputs": [],
   "execution_count": 24
  },
  {
   "cell_type": "code",
   "id": "7da060aa",
   "metadata": {
    "ExecuteTime": {
     "end_time": "2024-09-03T18:30:01.522839Z",
     "start_time": "2024-09-03T18:30:01.516508Z"
    }
   },
   "source": [
    "features_temp.shape"
   ],
   "outputs": [
    {
     "data": {
      "text/plain": [
       "(1, 146, 2048)"
      ]
     },
     "execution_count": 25,
     "metadata": {},
     "output_type": "execute_result"
    }
   ],
   "execution_count": 25
  },
  {
   "cell_type": "code",
   "id": "60360263",
   "metadata": {
    "ExecuteTime": {
     "end_time": "2024-09-03T18:30:02.149343Z",
     "start_time": "2024-09-03T18:30:01.522839Z"
    }
   },
   "source": [
    "temp_features_extracted = temporal_feature_extractor.predict(features_temp)"
   ],
   "outputs": [
    {
     "name": "stdout",
     "output_type": "stream",
     "text": [
      "\u001B[1m1/1\u001B[0m \u001B[32m━━━━━━━━━━━━━━━━━━━━\u001B[0m\u001B[37m\u001B[0m \u001B[1m1s\u001B[0m 570ms/step\n"
     ]
    }
   ],
   "execution_count": 26
  },
  {
   "cell_type": "code",
   "id": "dfaf86d9",
   "metadata": {
    "ExecuteTime": {
     "end_time": "2024-09-03T18:30:02.155460Z",
     "start_time": "2024-09-03T18:30:02.149343Z"
    }
   },
   "source": [
    "temp_features_extracted"
   ],
   "outputs": [
    {
     "data": {
      "text/plain": [
       "array([[[-0.01078969,  0.05039846,  0.03381352, ..., -0.18898293,\n",
       "         -0.5162102 , -0.03835326],\n",
       "        [-0.02348706,  0.08325385,  0.05160118, ..., -0.2102538 ,\n",
       "         -0.5105164 , -0.07875411],\n",
       "        [-0.03358026,  0.11335701,  0.0600911 , ..., -0.21939592,\n",
       "         -0.5087893 , -0.10199063],\n",
       "        ...,\n",
       "        [-0.08211824,  0.31410012,  0.10042705, ..., -0.16421047,\n",
       "         -0.13652982, -0.13261798],\n",
       "        [-0.08654797,  0.30833328,  0.09354513, ..., -0.11656106,\n",
       "         -0.08131052, -0.11769918],\n",
       "        [-0.09374568,  0.29856735,  0.08686332, ..., -0.06158441,\n",
       "         -0.03160968, -0.08218902]]], dtype=float32)"
      ]
     },
     "execution_count": 27,
     "metadata": {},
     "output_type": "execute_result"
    }
   ],
   "execution_count": 27
  },
  {
   "metadata": {},
   "cell_type": "markdown",
   "source": "## **2. Micro Expression Inconsistency Detection Module**",
   "id": "4b8839ed419f1aec"
  },
  {
   "metadata": {},
   "cell_type": "markdown",
   "source": "### **1. Micro Expression Feature Extraction**",
   "id": "fc7483995b04b067"
  },
  {
   "metadata": {
    "ExecuteTime": {
     "end_time": "2024-09-03T18:30:02.160309Z",
     "start_time": "2024-09-03T18:30:02.155460Z"
    }
   },
   "cell_type": "code",
   "source": "from keras.api.layers import Conv2D,BatchNormalization,Activation,MaxPooling2D,Dropout, Dense, Flatten",
   "id": "8e395e308720792",
   "outputs": [],
   "execution_count": 28
  },
  {
   "metadata": {
    "ExecuteTime": {
     "end_time": "2024-09-03T18:30:02.275895Z",
     "start_time": "2024-09-03T18:30:02.160309Z"
    }
   },
   "cell_type": "code",
   "source": [
    "input_shape = (64,64,3)\n",
    "inputs = Input(input_shape)\n",
    "\n",
    "# Layer 1\n",
    "x = Conv2D(32,(3,3),padding='same')(inputs)\n",
    "x = BatchNormalization()(x)\n",
    "x = Activation('relu')(x)\n",
    "x = MaxPooling2D(pool_size=(2,2))(x)\n",
    "\n",
    "# Layer 2\n",
    "x = Conv2D(64,(3,3),padding='same')(x)\n",
    "x = BatchNormalization()(x)\n",
    "x = Activation('relu')(x)\n",
    "x = MaxPooling2D(pool_size=(2,2))(x)\n",
    "\n",
    "# Layer 3\n",
    "x = Conv2D(128,(3,3),padding='same')(x)\n",
    "x = BatchNormalization()(x)\n",
    "x = Activation('relu')(x)\n",
    "x = MaxPooling2D(pool_size=(2,2))(x)\n",
    "\n",
    "# Layer 4\n",
    "x = Flatten()(x)\n",
    "x = Dense(256, activation='relu')(x)\n",
    "# Add dropouts in case of overfitting\n",
    "\n",
    "output = Dense(128, activation='relu')(x)\n",
    "\n",
    "micro_exp_feature_extractor = Model(inputs=inputs, outputs=output)\n",
    "micro_exp_feature_extractor.compile(optimizer='adam', loss='mean_squared_error', metrics=['accuracy'])\n",
    "micro_exp_feature_extractor.summary()"
   ],
   "id": "6074e1bea923d5f4",
   "outputs": [
    {
     "data": {
      "text/plain": [
       "\u001B[1mModel: \"functional_2\"\u001B[0m\n"
      ],
      "text/html": [
       "<pre style=\"white-space:pre;overflow-x:auto;line-height:normal;font-family:Menlo,'DejaVu Sans Mono',consolas,'Courier New',monospace\"><span style=\"font-weight: bold\">Model: \"functional_2\"</span>\n",
       "</pre>\n"
      ]
     },
     "metadata": {},
     "output_type": "display_data"
    },
    {
     "data": {
      "text/plain": [
       "┏━━━━━━━━━━━━━━━━━━━━━━━━━━━━━━━━━┳━━━━━━━━━━━━━━━━━━━━━━━━┳━━━━━━━━━━━━━━━┓\n",
       "┃\u001B[1m \u001B[0m\u001B[1mLayer (type)                   \u001B[0m\u001B[1m \u001B[0m┃\u001B[1m \u001B[0m\u001B[1mOutput Shape          \u001B[0m\u001B[1m \u001B[0m┃\u001B[1m \u001B[0m\u001B[1m      Param #\u001B[0m\u001B[1m \u001B[0m┃\n",
       "┡━━━━━━━━━━━━━━━━━━━━━━━━━━━━━━━━━╇━━━━━━━━━━━━━━━━━━━━━━━━╇━━━━━━━━━━━━━━━┩\n",
       "│ input_layer_2 (\u001B[38;5;33mInputLayer\u001B[0m)      │ (\u001B[38;5;45mNone\u001B[0m, \u001B[38;5;34m64\u001B[0m, \u001B[38;5;34m64\u001B[0m, \u001B[38;5;34m3\u001B[0m)      │             \u001B[38;5;34m0\u001B[0m │\n",
       "├─────────────────────────────────┼────────────────────────┼───────────────┤\n",
       "│ conv2d (\u001B[38;5;33mConv2D\u001B[0m)                 │ (\u001B[38;5;45mNone\u001B[0m, \u001B[38;5;34m64\u001B[0m, \u001B[38;5;34m64\u001B[0m, \u001B[38;5;34m32\u001B[0m)     │           \u001B[38;5;34m896\u001B[0m │\n",
       "├─────────────────────────────────┼────────────────────────┼───────────────┤\n",
       "│ batch_normalization             │ (\u001B[38;5;45mNone\u001B[0m, \u001B[38;5;34m64\u001B[0m, \u001B[38;5;34m64\u001B[0m, \u001B[38;5;34m32\u001B[0m)     │           \u001B[38;5;34m128\u001B[0m │\n",
       "│ (\u001B[38;5;33mBatchNormalization\u001B[0m)            │                        │               │\n",
       "├─────────────────────────────────┼────────────────────────┼───────────────┤\n",
       "│ activation (\u001B[38;5;33mActivation\u001B[0m)         │ (\u001B[38;5;45mNone\u001B[0m, \u001B[38;5;34m64\u001B[0m, \u001B[38;5;34m64\u001B[0m, \u001B[38;5;34m32\u001B[0m)     │             \u001B[38;5;34m0\u001B[0m │\n",
       "├─────────────────────────────────┼────────────────────────┼───────────────┤\n",
       "│ max_pooling2d (\u001B[38;5;33mMaxPooling2D\u001B[0m)    │ (\u001B[38;5;45mNone\u001B[0m, \u001B[38;5;34m32\u001B[0m, \u001B[38;5;34m32\u001B[0m, \u001B[38;5;34m32\u001B[0m)     │             \u001B[38;5;34m0\u001B[0m │\n",
       "├─────────────────────────────────┼────────────────────────┼───────────────┤\n",
       "│ conv2d_1 (\u001B[38;5;33mConv2D\u001B[0m)               │ (\u001B[38;5;45mNone\u001B[0m, \u001B[38;5;34m32\u001B[0m, \u001B[38;5;34m32\u001B[0m, \u001B[38;5;34m64\u001B[0m)     │        \u001B[38;5;34m18,496\u001B[0m │\n",
       "├─────────────────────────────────┼────────────────────────┼───────────────┤\n",
       "│ batch_normalization_1           │ (\u001B[38;5;45mNone\u001B[0m, \u001B[38;5;34m32\u001B[0m, \u001B[38;5;34m32\u001B[0m, \u001B[38;5;34m64\u001B[0m)     │           \u001B[38;5;34m256\u001B[0m │\n",
       "│ (\u001B[38;5;33mBatchNormalization\u001B[0m)            │                        │               │\n",
       "├─────────────────────────────────┼────────────────────────┼───────────────┤\n",
       "│ activation_1 (\u001B[38;5;33mActivation\u001B[0m)       │ (\u001B[38;5;45mNone\u001B[0m, \u001B[38;5;34m32\u001B[0m, \u001B[38;5;34m32\u001B[0m, \u001B[38;5;34m64\u001B[0m)     │             \u001B[38;5;34m0\u001B[0m │\n",
       "├─────────────────────────────────┼────────────────────────┼───────────────┤\n",
       "│ max_pooling2d_1 (\u001B[38;5;33mMaxPooling2D\u001B[0m)  │ (\u001B[38;5;45mNone\u001B[0m, \u001B[38;5;34m16\u001B[0m, \u001B[38;5;34m16\u001B[0m, \u001B[38;5;34m64\u001B[0m)     │             \u001B[38;5;34m0\u001B[0m │\n",
       "├─────────────────────────────────┼────────────────────────┼───────────────┤\n",
       "│ conv2d_2 (\u001B[38;5;33mConv2D\u001B[0m)               │ (\u001B[38;5;45mNone\u001B[0m, \u001B[38;5;34m16\u001B[0m, \u001B[38;5;34m16\u001B[0m, \u001B[38;5;34m128\u001B[0m)    │        \u001B[38;5;34m73,856\u001B[0m │\n",
       "├─────────────────────────────────┼────────────────────────┼───────────────┤\n",
       "│ batch_normalization_2           │ (\u001B[38;5;45mNone\u001B[0m, \u001B[38;5;34m16\u001B[0m, \u001B[38;5;34m16\u001B[0m, \u001B[38;5;34m128\u001B[0m)    │           \u001B[38;5;34m512\u001B[0m │\n",
       "│ (\u001B[38;5;33mBatchNormalization\u001B[0m)            │                        │               │\n",
       "├─────────────────────────────────┼────────────────────────┼───────────────┤\n",
       "│ activation_2 (\u001B[38;5;33mActivation\u001B[0m)       │ (\u001B[38;5;45mNone\u001B[0m, \u001B[38;5;34m16\u001B[0m, \u001B[38;5;34m16\u001B[0m, \u001B[38;5;34m128\u001B[0m)    │             \u001B[38;5;34m0\u001B[0m │\n",
       "├─────────────────────────────────┼────────────────────────┼───────────────┤\n",
       "│ max_pooling2d_2 (\u001B[38;5;33mMaxPooling2D\u001B[0m)  │ (\u001B[38;5;45mNone\u001B[0m, \u001B[38;5;34m8\u001B[0m, \u001B[38;5;34m8\u001B[0m, \u001B[38;5;34m128\u001B[0m)      │             \u001B[38;5;34m0\u001B[0m │\n",
       "├─────────────────────────────────┼────────────────────────┼───────────────┤\n",
       "│ flatten (\u001B[38;5;33mFlatten\u001B[0m)               │ (\u001B[38;5;45mNone\u001B[0m, \u001B[38;5;34m8192\u001B[0m)           │             \u001B[38;5;34m0\u001B[0m │\n",
       "├─────────────────────────────────┼────────────────────────┼───────────────┤\n",
       "│ dense (\u001B[38;5;33mDense\u001B[0m)                   │ (\u001B[38;5;45mNone\u001B[0m, \u001B[38;5;34m256\u001B[0m)            │     \u001B[38;5;34m2,097,408\u001B[0m │\n",
       "├─────────────────────────────────┼────────────────────────┼───────────────┤\n",
       "│ dense_1 (\u001B[38;5;33mDense\u001B[0m)                 │ (\u001B[38;5;45mNone\u001B[0m, \u001B[38;5;34m128\u001B[0m)            │        \u001B[38;5;34m32,896\u001B[0m │\n",
       "└─────────────────────────────────┴────────────────────────┴───────────────┘\n"
      ],
      "text/html": [
       "<pre style=\"white-space:pre;overflow-x:auto;line-height:normal;font-family:Menlo,'DejaVu Sans Mono',consolas,'Courier New',monospace\">┏━━━━━━━━━━━━━━━━━━━━━━━━━━━━━━━━━┳━━━━━━━━━━━━━━━━━━━━━━━━┳━━━━━━━━━━━━━━━┓\n",
       "┃<span style=\"font-weight: bold\"> Layer (type)                    </span>┃<span style=\"font-weight: bold\"> Output Shape           </span>┃<span style=\"font-weight: bold\">       Param # </span>┃\n",
       "┡━━━━━━━━━━━━━━━━━━━━━━━━━━━━━━━━━╇━━━━━━━━━━━━━━━━━━━━━━━━╇━━━━━━━━━━━━━━━┩\n",
       "│ input_layer_2 (<span style=\"color: #0087ff; text-decoration-color: #0087ff\">InputLayer</span>)      │ (<span style=\"color: #00d7ff; text-decoration-color: #00d7ff\">None</span>, <span style=\"color: #00af00; text-decoration-color: #00af00\">64</span>, <span style=\"color: #00af00; text-decoration-color: #00af00\">64</span>, <span style=\"color: #00af00; text-decoration-color: #00af00\">3</span>)      │             <span style=\"color: #00af00; text-decoration-color: #00af00\">0</span> │\n",
       "├─────────────────────────────────┼────────────────────────┼───────────────┤\n",
       "│ conv2d (<span style=\"color: #0087ff; text-decoration-color: #0087ff\">Conv2D</span>)                 │ (<span style=\"color: #00d7ff; text-decoration-color: #00d7ff\">None</span>, <span style=\"color: #00af00; text-decoration-color: #00af00\">64</span>, <span style=\"color: #00af00; text-decoration-color: #00af00\">64</span>, <span style=\"color: #00af00; text-decoration-color: #00af00\">32</span>)     │           <span style=\"color: #00af00; text-decoration-color: #00af00\">896</span> │\n",
       "├─────────────────────────────────┼────────────────────────┼───────────────┤\n",
       "│ batch_normalization             │ (<span style=\"color: #00d7ff; text-decoration-color: #00d7ff\">None</span>, <span style=\"color: #00af00; text-decoration-color: #00af00\">64</span>, <span style=\"color: #00af00; text-decoration-color: #00af00\">64</span>, <span style=\"color: #00af00; text-decoration-color: #00af00\">32</span>)     │           <span style=\"color: #00af00; text-decoration-color: #00af00\">128</span> │\n",
       "│ (<span style=\"color: #0087ff; text-decoration-color: #0087ff\">BatchNormalization</span>)            │                        │               │\n",
       "├─────────────────────────────────┼────────────────────────┼───────────────┤\n",
       "│ activation (<span style=\"color: #0087ff; text-decoration-color: #0087ff\">Activation</span>)         │ (<span style=\"color: #00d7ff; text-decoration-color: #00d7ff\">None</span>, <span style=\"color: #00af00; text-decoration-color: #00af00\">64</span>, <span style=\"color: #00af00; text-decoration-color: #00af00\">64</span>, <span style=\"color: #00af00; text-decoration-color: #00af00\">32</span>)     │             <span style=\"color: #00af00; text-decoration-color: #00af00\">0</span> │\n",
       "├─────────────────────────────────┼────────────────────────┼───────────────┤\n",
       "│ max_pooling2d (<span style=\"color: #0087ff; text-decoration-color: #0087ff\">MaxPooling2D</span>)    │ (<span style=\"color: #00d7ff; text-decoration-color: #00d7ff\">None</span>, <span style=\"color: #00af00; text-decoration-color: #00af00\">32</span>, <span style=\"color: #00af00; text-decoration-color: #00af00\">32</span>, <span style=\"color: #00af00; text-decoration-color: #00af00\">32</span>)     │             <span style=\"color: #00af00; text-decoration-color: #00af00\">0</span> │\n",
       "├─────────────────────────────────┼────────────────────────┼───────────────┤\n",
       "│ conv2d_1 (<span style=\"color: #0087ff; text-decoration-color: #0087ff\">Conv2D</span>)               │ (<span style=\"color: #00d7ff; text-decoration-color: #00d7ff\">None</span>, <span style=\"color: #00af00; text-decoration-color: #00af00\">32</span>, <span style=\"color: #00af00; text-decoration-color: #00af00\">32</span>, <span style=\"color: #00af00; text-decoration-color: #00af00\">64</span>)     │        <span style=\"color: #00af00; text-decoration-color: #00af00\">18,496</span> │\n",
       "├─────────────────────────────────┼────────────────────────┼───────────────┤\n",
       "│ batch_normalization_1           │ (<span style=\"color: #00d7ff; text-decoration-color: #00d7ff\">None</span>, <span style=\"color: #00af00; text-decoration-color: #00af00\">32</span>, <span style=\"color: #00af00; text-decoration-color: #00af00\">32</span>, <span style=\"color: #00af00; text-decoration-color: #00af00\">64</span>)     │           <span style=\"color: #00af00; text-decoration-color: #00af00\">256</span> │\n",
       "│ (<span style=\"color: #0087ff; text-decoration-color: #0087ff\">BatchNormalization</span>)            │                        │               │\n",
       "├─────────────────────────────────┼────────────────────────┼───────────────┤\n",
       "│ activation_1 (<span style=\"color: #0087ff; text-decoration-color: #0087ff\">Activation</span>)       │ (<span style=\"color: #00d7ff; text-decoration-color: #00d7ff\">None</span>, <span style=\"color: #00af00; text-decoration-color: #00af00\">32</span>, <span style=\"color: #00af00; text-decoration-color: #00af00\">32</span>, <span style=\"color: #00af00; text-decoration-color: #00af00\">64</span>)     │             <span style=\"color: #00af00; text-decoration-color: #00af00\">0</span> │\n",
       "├─────────────────────────────────┼────────────────────────┼───────────────┤\n",
       "│ max_pooling2d_1 (<span style=\"color: #0087ff; text-decoration-color: #0087ff\">MaxPooling2D</span>)  │ (<span style=\"color: #00d7ff; text-decoration-color: #00d7ff\">None</span>, <span style=\"color: #00af00; text-decoration-color: #00af00\">16</span>, <span style=\"color: #00af00; text-decoration-color: #00af00\">16</span>, <span style=\"color: #00af00; text-decoration-color: #00af00\">64</span>)     │             <span style=\"color: #00af00; text-decoration-color: #00af00\">0</span> │\n",
       "├─────────────────────────────────┼────────────────────────┼───────────────┤\n",
       "│ conv2d_2 (<span style=\"color: #0087ff; text-decoration-color: #0087ff\">Conv2D</span>)               │ (<span style=\"color: #00d7ff; text-decoration-color: #00d7ff\">None</span>, <span style=\"color: #00af00; text-decoration-color: #00af00\">16</span>, <span style=\"color: #00af00; text-decoration-color: #00af00\">16</span>, <span style=\"color: #00af00; text-decoration-color: #00af00\">128</span>)    │        <span style=\"color: #00af00; text-decoration-color: #00af00\">73,856</span> │\n",
       "├─────────────────────────────────┼────────────────────────┼───────────────┤\n",
       "│ batch_normalization_2           │ (<span style=\"color: #00d7ff; text-decoration-color: #00d7ff\">None</span>, <span style=\"color: #00af00; text-decoration-color: #00af00\">16</span>, <span style=\"color: #00af00; text-decoration-color: #00af00\">16</span>, <span style=\"color: #00af00; text-decoration-color: #00af00\">128</span>)    │           <span style=\"color: #00af00; text-decoration-color: #00af00\">512</span> │\n",
       "│ (<span style=\"color: #0087ff; text-decoration-color: #0087ff\">BatchNormalization</span>)            │                        │               │\n",
       "├─────────────────────────────────┼────────────────────────┼───────────────┤\n",
       "│ activation_2 (<span style=\"color: #0087ff; text-decoration-color: #0087ff\">Activation</span>)       │ (<span style=\"color: #00d7ff; text-decoration-color: #00d7ff\">None</span>, <span style=\"color: #00af00; text-decoration-color: #00af00\">16</span>, <span style=\"color: #00af00; text-decoration-color: #00af00\">16</span>, <span style=\"color: #00af00; text-decoration-color: #00af00\">128</span>)    │             <span style=\"color: #00af00; text-decoration-color: #00af00\">0</span> │\n",
       "├─────────────────────────────────┼────────────────────────┼───────────────┤\n",
       "│ max_pooling2d_2 (<span style=\"color: #0087ff; text-decoration-color: #0087ff\">MaxPooling2D</span>)  │ (<span style=\"color: #00d7ff; text-decoration-color: #00d7ff\">None</span>, <span style=\"color: #00af00; text-decoration-color: #00af00\">8</span>, <span style=\"color: #00af00; text-decoration-color: #00af00\">8</span>, <span style=\"color: #00af00; text-decoration-color: #00af00\">128</span>)      │             <span style=\"color: #00af00; text-decoration-color: #00af00\">0</span> │\n",
       "├─────────────────────────────────┼────────────────────────┼───────────────┤\n",
       "│ flatten (<span style=\"color: #0087ff; text-decoration-color: #0087ff\">Flatten</span>)               │ (<span style=\"color: #00d7ff; text-decoration-color: #00d7ff\">None</span>, <span style=\"color: #00af00; text-decoration-color: #00af00\">8192</span>)           │             <span style=\"color: #00af00; text-decoration-color: #00af00\">0</span> │\n",
       "├─────────────────────────────────┼────────────────────────┼───────────────┤\n",
       "│ dense (<span style=\"color: #0087ff; text-decoration-color: #0087ff\">Dense</span>)                   │ (<span style=\"color: #00d7ff; text-decoration-color: #00d7ff\">None</span>, <span style=\"color: #00af00; text-decoration-color: #00af00\">256</span>)            │     <span style=\"color: #00af00; text-decoration-color: #00af00\">2,097,408</span> │\n",
       "├─────────────────────────────────┼────────────────────────┼───────────────┤\n",
       "│ dense_1 (<span style=\"color: #0087ff; text-decoration-color: #0087ff\">Dense</span>)                 │ (<span style=\"color: #00d7ff; text-decoration-color: #00d7ff\">None</span>, <span style=\"color: #00af00; text-decoration-color: #00af00\">128</span>)            │        <span style=\"color: #00af00; text-decoration-color: #00af00\">32,896</span> │\n",
       "└─────────────────────────────────┴────────────────────────┴───────────────┘\n",
       "</pre>\n"
      ]
     },
     "metadata": {},
     "output_type": "display_data"
    },
    {
     "data": {
      "text/plain": [
       "\u001B[1m Total params: \u001B[0m\u001B[38;5;34m2,224,448\u001B[0m (8.49 MB)\n"
      ],
      "text/html": [
       "<pre style=\"white-space:pre;overflow-x:auto;line-height:normal;font-family:Menlo,'DejaVu Sans Mono',consolas,'Courier New',monospace\"><span style=\"font-weight: bold\"> Total params: </span><span style=\"color: #00af00; text-decoration-color: #00af00\">2,224,448</span> (8.49 MB)\n",
       "</pre>\n"
      ]
     },
     "metadata": {},
     "output_type": "display_data"
    },
    {
     "data": {
      "text/plain": [
       "\u001B[1m Trainable params: \u001B[0m\u001B[38;5;34m2,224,000\u001B[0m (8.48 MB)\n"
      ],
      "text/html": [
       "<pre style=\"white-space:pre;overflow-x:auto;line-height:normal;font-family:Menlo,'DejaVu Sans Mono',consolas,'Courier New',monospace\"><span style=\"font-weight: bold\"> Trainable params: </span><span style=\"color: #00af00; text-decoration-color: #00af00\">2,224,000</span> (8.48 MB)\n",
       "</pre>\n"
      ]
     },
     "metadata": {},
     "output_type": "display_data"
    },
    {
     "data": {
      "text/plain": [
       "\u001B[1m Non-trainable params: \u001B[0m\u001B[38;5;34m448\u001B[0m (1.75 KB)\n"
      ],
      "text/html": [
       "<pre style=\"white-space:pre;overflow-x:auto;line-height:normal;font-family:Menlo,'DejaVu Sans Mono',consolas,'Courier New',monospace\"><span style=\"font-weight: bold\"> Non-trainable params: </span><span style=\"color: #00af00; text-decoration-color: #00af00\">448</span> (1.75 KB)\n",
       "</pre>\n"
      ]
     },
     "metadata": {},
     "output_type": "display_data"
    }
   ],
   "execution_count": 29
  },
  {
   "metadata": {
    "ExecuteTime": {
     "end_time": "2024-09-03T18:30:02.905314Z",
     "start_time": "2024-09-03T18:30:02.275895Z"
    }
   },
   "cell_type": "code",
   "source": [
    "#TODO: Train the model\n",
    "micro_exp_feature_extractor.fit()"
   ],
   "id": "bc7e9ddfed94684",
   "outputs": [
    {
     "ename": "AttributeError",
     "evalue": "'NoneType' object has no attribute 'shape'",
     "output_type": "error",
     "traceback": [
      "\u001B[1;31m---------------------------------------------------------------------------\u001B[0m",
      "\u001B[1;31mAttributeError\u001B[0m                            Traceback (most recent call last)",
      "Cell \u001B[1;32mIn[30], line 2\u001B[0m\n\u001B[0;32m      1\u001B[0m \u001B[38;5;66;03m#TODO: Train the model\u001B[39;00m\n\u001B[1;32m----> 2\u001B[0m \u001B[43mmicro_exp_feature_extractor\u001B[49m\u001B[38;5;241;43m.\u001B[39;49m\u001B[43mfit\u001B[49m\u001B[43m(\u001B[49m\u001B[43m)\u001B[49m\n",
      "File \u001B[1;32m~\\AppData\\Local\\Programs\\Python\\Python312\\Lib\\site-packages\\keras\\src\\utils\\traceback_utils.py:122\u001B[0m, in \u001B[0;36mfilter_traceback.<locals>.error_handler\u001B[1;34m(*args, **kwargs)\u001B[0m\n\u001B[0;32m    119\u001B[0m     filtered_tb \u001B[38;5;241m=\u001B[39m _process_traceback_frames(e\u001B[38;5;241m.\u001B[39m__traceback__)\n\u001B[0;32m    120\u001B[0m     \u001B[38;5;66;03m# To get the full stack trace, call:\u001B[39;00m\n\u001B[0;32m    121\u001B[0m     \u001B[38;5;66;03m# `keras.config.disable_traceback_filtering()`\u001B[39;00m\n\u001B[1;32m--> 122\u001B[0m     \u001B[38;5;28;01mraise\u001B[39;00m e\u001B[38;5;241m.\u001B[39mwith_traceback(filtered_tb) \u001B[38;5;28;01mfrom\u001B[39;00m \u001B[38;5;28;01mNone\u001B[39;00m\n\u001B[0;32m    123\u001B[0m \u001B[38;5;28;01mfinally\u001B[39;00m:\n\u001B[0;32m    124\u001B[0m     \u001B[38;5;28;01mdel\u001B[39;00m filtered_tb\n",
      "File \u001B[1;32m~\\AppData\\Local\\Programs\\Python\\Python312\\Lib\\site-packages\\keras\\src\\trainers\\data_adapters\\data_adapter_utils.py:103\u001B[0m, in \u001B[0;36m<genexpr>\u001B[1;34m(.0)\u001B[0m\n\u001B[0;32m    102\u001B[0m \u001B[38;5;28;01mdef\u001B[39;00m \u001B[38;5;21mcheck_data_cardinality\u001B[39m(data):\n\u001B[1;32m--> 103\u001B[0m     num_samples \u001B[38;5;241m=\u001B[39m \u001B[38;5;28mset\u001B[39m(\u001B[38;5;28mint\u001B[39m(\u001B[43mi\u001B[49m\u001B[38;5;241;43m.\u001B[39;49m\u001B[43mshape\u001B[49m[\u001B[38;5;241m0\u001B[39m]) \u001B[38;5;28;01mfor\u001B[39;00m i \u001B[38;5;129;01min\u001B[39;00m tree\u001B[38;5;241m.\u001B[39mflatten(data))\n\u001B[0;32m    104\u001B[0m     \u001B[38;5;28;01mif\u001B[39;00m \u001B[38;5;28mlen\u001B[39m(num_samples) \u001B[38;5;241m>\u001B[39m \u001B[38;5;241m1\u001B[39m:\n\u001B[0;32m    105\u001B[0m         msg \u001B[38;5;241m=\u001B[39m (\n\u001B[0;32m    106\u001B[0m             \u001B[38;5;124m\"\u001B[39m\u001B[38;5;124mData cardinality is ambiguous. \u001B[39m\u001B[38;5;124m\"\u001B[39m\n\u001B[0;32m    107\u001B[0m             \u001B[38;5;124m\"\u001B[39m\u001B[38;5;124mMake sure all arrays contain the same number of samples.\u001B[39m\u001B[38;5;124m\"\u001B[39m\n\u001B[0;32m    108\u001B[0m         )\n",
      "\u001B[1;31mAttributeError\u001B[0m: 'NoneType' object has no attribute 'shape'"
     ]
    }
   ],
   "execution_count": 30
  },
  {
   "metadata": {},
   "cell_type": "markdown",
   "source": "### **2. Temporal Inconsistency Detection in Micro Expression**",
   "id": "bbc25588dbec308d"
  },
  {
   "metadata": {
    "ExecuteTime": {
     "end_time": "2024-09-03T18:30:02.905314Z",
     "start_time": "2024-09-03T18:30:02.905314Z"
    }
   },
   "cell_type": "code",
   "source": "from keras.api.layers import Attention,Concatenate",
   "id": "5e8d6e0b07c3d7cc",
   "outputs": [],
   "execution_count": null
  },
  {
   "metadata": {},
   "cell_type": "code",
   "source": [
    "def build_temporal_inconsistency_attention(seq_length, feature_dims):\n",
    "    temp_feat_shape = (seq_length, feature_dims)\n",
    "    temp_inputs = Input(shape=temp_feat_shape)\n",
    "    \n",
    "    x_mic_exp = Bidirectional(LSTM(128, return_sequences=True, dropout=0.2))(temp_inputs)\n",
    "    \n",
    "    x_mic_exp = Bidirectional(LSTM(64, return_sequences=True, dropout=0.2))(x_mic_exp)\n",
    "    \n",
    "    attention_output = Attention()([x_mic_exp,x_mic_exp])\n",
    "    \n",
    "    x_mic_exp = Dense(256, activation='relu')(attention_output)\n",
    "    # Add dropout layers for overfitting\n",
    "    x_mic_exp = Dense(128, activation='relu')(x_mic_exp)\n",
    "    \n",
    "    mic_exp_temp_model = Model(inputs=temp_inputs, outputs=x_mic_exp)\n",
    "    \n",
    "    mic_exp_temp_model.compile(optimizer='adam', loss='mean_squared_error', metrics=['accuracy'])\n",
    "    \n",
    "    return mic_exp_temp_model\n",
    "    "
   ],
   "id": "f5e07911f8822c6",
   "outputs": [],
   "execution_count": null
  },
  {
   "metadata": {},
   "cell_type": "code",
   "source": "mic_exp_temp_model_built = build_temporal_inconsistency_attention(seq_length=146, feature_dims=128)",
   "id": "cd5fabea3d4550e9",
   "outputs": [],
   "execution_count": null
  },
  {
   "metadata": {},
   "cell_type": "code",
   "source": [
    "#TODO: Train the model\n",
    "mic_exp_temp_model_built.fit()"
   ],
   "id": "c1bd6917c4cdf082",
   "outputs": [],
   "execution_count": null
  },
  {
   "metadata": {},
   "cell_type": "markdown",
   "source": "## **3. Feature Fusion Layer**",
   "id": "57d43392f9d13e1a"
  },
  {
   "metadata": {},
   "cell_type": "markdown",
   "source": "### **1. Spatial Attention Mechanism**",
   "id": "b84699328876087a"
  },
  {
   "metadata": {},
   "cell_type": "code",
   "source": "from keras.api.layers import Multiply, GlobalAvgPool2D",
   "id": "48e2125903b88b25",
   "outputs": [],
   "execution_count": null
  },
  {
   "metadata": {
    "ExecuteTime": {
     "end_time": "2024-09-03T18:54:40.288342Z",
     "start_time": "2024-09-03T18:54:40.275107Z"
    }
   },
   "cell_type": "code",
   "source": [
    "def build_spatial_attention_mechanism(feature_maps):\n",
    "    \"\"\"\n",
    "    :param feature_maps: \n",
    "    :return: weighted feature maps\n",
    "    \"\"\"\n",
    "    \n",
    "    attention_map = Conv2D(1,(1,1),strides=(1,1),padding=\"same\")(feature_maps)\n",
    "    \n",
    "    attention_map = Activation('sigmoid')(attention_map) # 'sigmoid' or 'softmax' can be used as an activation function\n",
    "    \n",
    "    # Element wise multiplication of feature_maps and attention_map\n",
    "    weighted_feature_map = Multiply()([feature_maps, attention_map])\n",
    "    \n",
    "    # Convert the weighted feature map into a context vector\n",
    "    spatial_context_vectors = GlobalAvgPool2D()(weighted_feature_map)\n",
    "    \n",
    "    return spatial_context_vectors\n",
    "    "
   ],
   "id": "8122e940e8373bf0",
   "outputs": [],
   "execution_count": 34
  },
  {
   "metadata": {},
   "cell_type": "markdown",
   "source": "### **2. Temporal Attention Mechanism**",
   "id": "92292e08c44b7b7b"
  },
  {
   "metadata": {
    "ExecuteTime": {
     "end_time": "2024-09-03T18:54:43.547468Z",
     "start_time": "2024-09-03T18:54:43.539269Z"
    }
   },
   "cell_type": "code",
   "source": [
    "def build_temporal_attention_mechanism(feature_maps):\n",
    "    \"\"\"\n",
    "    :param feature_maps: \n",
    "    :return weighted_feature_maps: \n",
    "    \"\"\"\n",
    "    \n",
    "    temporal_attention_scores = Dense(1, activation='tanh')(feature_maps)\n",
    "    \n",
    "    temporal_attention_weights = Activation('softmax')(temporal_attention_scores)\n",
    "    \n",
    "    weighted_temporal_features = Multiply()([feature_maps, temporal_attention_weights])\n",
    "    \n",
    "    context_vector = tf.reduce_sum(weighted_temporal_features, axis=1)\n",
    "    \n",
    "    return context_vector"
   ],
   "id": "49a9176a1176c8c3",
   "outputs": [],
   "execution_count": 35
  },
  {
   "metadata": {},
   "cell_type": "markdown",
   "source": "### **3. Micro Expression Attention Mechanism**",
   "id": "aad6d4050af9efff"
  },
  {
   "metadata": {},
   "cell_type": "markdown",
   "source": "#### **1. Spatial Micro Expression Attention Mechanism**",
   "id": "f6df99f573ee5e2c"
  },
  {
   "metadata": {
    "ExecuteTime": {
     "end_time": "2024-09-03T18:54:34.812125Z",
     "start_time": "2024-09-03T18:54:34.807775Z"
    }
   },
   "cell_type": "code",
   "source": [
    "def build_spatial_micro_expression_attention_mechanism(micro_exp_spatial_feature_maps):\n",
    "    \"\"\"\n",
    "    :param micro_exp_spatial_feature_maps: \n",
    "    :return weighted micro_exp feature maps : \n",
    "    \"\"\"\n",
    "    \n",
    "    attention_map = Conv2D(1,(1,1),strides=(1,1),padding=\"same\")(micro_exp_spatial_feature_maps)\n",
    "    \n",
    "    attention_map = Activation('sigmoid')(attention_map)\n",
    "    \n",
    "    weighted_micro_exp_feature_map = Multiply()([micro_exp_spatial_feature_maps,attention_map])\n",
    "    \n",
    "    micro_exp_spatial_context_vector = GlobalAvgPool2D()(weighted_micro_exp_feature_map)\n",
    "    \n",
    "    return micro_exp_spatial_context_vector"
   ],
   "id": "f16ab0296575dd91",
   "outputs": [],
   "execution_count": 33
  },
  {
   "metadata": {},
   "cell_type": "markdown",
   "source": "#### **2. Temporal Micro Expression Attention Mechanism**",
   "id": "712249ac1c4655a1"
  },
  {
   "metadata": {
    "ExecuteTime": {
     "end_time": "2024-09-03T18:54:47.073324Z",
     "start_time": "2024-09-03T18:54:47.056387Z"
    }
   },
   "cell_type": "code",
   "source": [
    "def build_temporal_micro_expression_attention_mechanism(micro_exp_feature_vectors):\n",
    "    \"\"\"\n",
    "    :param micro_exp_feature_vectors: \n",
    "    :return micro_exp_context_vectors: \n",
    "    \"\"\"\n",
    "    \n",
    "    attention_scores = Dense(1,activation='tanh')(micro_exp_feature_vectors)\n",
    "    \n",
    "    attention_weights = Activation('softmax')(attention_scores)\n",
    "    \n",
    "    weighted_micro_exp_temporal_features = Multiply()([attention_weights, micro_exp_feature_vectors])\n",
    "    \n",
    "    micro_exp_context_vector = tf.reduce_sum(weighted_micro_exp_temporal_features, axis=1)\n",
    "    \n",
    "    return micro_exp_context_vector"
   ],
   "id": "3d70c9acf70368e3",
   "outputs": [],
   "execution_count": 36
  },
  {
   "metadata": {},
   "cell_type": "markdown",
   "source": "### **4. Concatenation Layer**",
   "id": "85dec02a110a1397"
  },
  {
   "metadata": {
    "ExecuteTime": {
     "end_time": "2024-09-03T19:03:25.886898Z",
     "start_time": "2024-09-03T19:03:25.869890Z"
    }
   },
   "cell_type": "code",
   "source": "from keras.api.layers import Concatenate",
   "id": "286bd7dea56315f",
   "outputs": [],
   "execution_count": 37
  },
  {
   "metadata": {
    "ExecuteTime": {
     "end_time": "2024-09-03T19:04:18.504704Z",
     "start_time": "2024-09-03T19:04:18.495116Z"
    }
   },
   "cell_type": "code",
   "source": [
    "def build_feature_fusion_layer():\n",
    "    \n",
    "    spatial_context_vectors = build_spatial_attention_mechanism(feature_maps=features)\n",
    "\n",
    "    temporal_context_vector = build_temporal_attention_mechanism(feature_maps=features)\n",
    "    \n",
    "    micro_exp_spatial_context_vector = build_spatial_micro_expression_attention_mechanism(micro_exp_spatial_feature_maps=features)\n",
    "    \n",
    "    micro_exp_temporal_context_vector = build_temporal_micro_expression_attention_mechanism(micro_exp_feature_vectors=features)\n",
    "    \n",
    "    concatenated_feature_vector = Concatenate()([\n",
    "        spatial_context_vectors,\n",
    "        temporal_context_vector,\n",
    "        micro_exp_spatial_context_vector,\n",
    "        micro_exp_temporal_context_vector\n",
    "    ])\n",
    "    \n",
    "    return concatenated_feature_vector"
   ],
   "id": "23573323f25ea3f8",
   "outputs": [],
   "execution_count": 39
  },
  {
   "metadata": {},
   "cell_type": "markdown",
   "source": "## **4. Face Swap Detection Model**",
   "id": "aaba6f7f72890a65"
  },
  {
   "metadata": {
    "ExecuteTime": {
     "end_time": "2024-09-03T19:12:18.340951Z",
     "start_time": "2024-09-03T19:12:18.331267Z"
    }
   },
   "cell_type": "code",
   "source": [
    "def build_face_swap_detection_model():\n",
    "    concatenated_feature_vector = build_feature_fusion_layer()\n",
    "    \n",
    "    dense_units = [256,128,64]\n",
    "    \n",
    "    x_face_swap = concatenated_feature_vector\n",
    "    for unit in dense_units:\n",
    "        x_face_swap = Dense(unit, activation='relu')(x_face_swap)\n",
    "        x_face_swap = Dropout(0.5)(x_face_swap)\n",
    "    \n",
    "    op_face_swap = Dense(1,activation='sigmoid')(x_face_swap)\n",
    "    \n",
    "    face_swap_detector_model = Model(inputs=concatenated_feature_vector, output=op_face_swap)\n",
    "    \n",
    "    return face_swap_detector_model    "
   ],
   "id": "9fe449d4d7cabf57",
   "outputs": [],
   "execution_count": 40
  },
  {
   "metadata": {},
   "cell_type": "code",
   "outputs": [],
   "execution_count": null,
   "source": "",
   "id": "a3e4545488a1ac3d"
  }
 ],
 "metadata": {
  "kernelspec": {
   "display_name": "Python 3",
   "language": "python",
   "name": "python3"
  },
  "language_info": {
   "codemirror_mode": {
    "name": "ipython",
    "version": 3
   },
   "file_extension": ".py",
   "mimetype": "text/x-python",
   "name": "python",
   "nbconvert_exporter": "python",
   "pygments_lexer": "ipython3",
   "version": "3.12.4"
  }
 },
 "nbformat": 4,
 "nbformat_minor": 5
}
